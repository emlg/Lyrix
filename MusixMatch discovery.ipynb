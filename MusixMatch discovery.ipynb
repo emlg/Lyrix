{
 "cells": [
  {
   "cell_type": "code",
   "execution_count": 3,
   "metadata": {},
   "outputs": [],
   "source": [
    "import requests"
   ]
  },
  {
   "cell_type": "code",
   "execution_count": 4,
   "metadata": {},
   "outputs": [],
   "source": [
    "api_key = \"156187ce3da6574415bec5c89e2cc417\"\n",
    "#api_key = \"7f98c161f2d7bc9aa5eb3dd7492a9f21\""
   ]
  },
  {
   "cell_type": "markdown",
   "metadata": {},
   "source": [
    "WORKED : http://api.musixmatch.com/ws/1.1/track.search?apikey=156187ce3da6574415bec5c89e2cc417&q_artist=queen&q_track=we%20are%20the%20champions&format=json&page_size=1&f_has_lyrics=1"
   ]
  },
  {
   "cell_type": "code",
   "execution_count": 5,
   "metadata": {},
   "outputs": [
    {
     "data": {
      "text/plain": [
       "'{\"message\":{\"header\":{\"status_code\":200,\"execute_time\":0.059171199798584},\"body\":{\"lyrics\":{\"lyrics_id\":18006211,\"can_edit\":0,\"locked\":0,\"published_status\":5,\"action_requested\":\"\",\"verified\":0,\"restricted\":0,\"instrumental\":0,\"explicit\":0,\"lyrics_body\":\"Now and then I think of when we were together\\\\nLike when you said you felt so happy you could die\\\\nTold myself that you were right for me\\\\nBut felt so lonely in your company\\\\nBut that was love, and it\\'s an ache I still remember\\\\n\\\\nYou can get addicted to a certain kind of sadness\\\\nLike resignation to the end, always the end\\\\nSo when we found that we could not make sense\\\\nWell, you said that we would still be friends\\\\nBut I\\'ll admit that I was glad that it was over\\\\n\\\\nBut you didn\\'t have to cut me off\\\\nMake out like it never happened and that we were nothing\\\\nAnd I don\\'t even need your love\\\\nBut you treat me like a stranger, and that feels so rough\\\\n\\\\nNo, you didn\\'t have to stoop so low\\\\n...\\\\n\\\\n******* This Lyrics is NOT for Commercial use *******\\\\n(1409617961899)\",\"lyrics_language\":\"en\",\"lyrics_language_description\":\"English\",\"script_tracking_url\":\"https:\\\\/\\\\/tracking.musixmatch.com\\\\/t1.0\\\\/m_js\\\\/e_1\\\\/sn_0\\\\/l_18006211\\\\/su_0\\\\/rs_0\\\\/tr_3vUCAJS6n38NL9IQN4F0qo-mZ1xIaAX_B5yIU-JpYaAZHuDzVj1ubwJ_J4fM1uWf2NoOk_V1p8LNh6HmhDi6GbbuisrQrVNX1WJPwWv8ZEsw2S5CfKZtfC52LRpNkcrTYAY2liAA-aXuy4aRC0nCuewMyKjpibLwTfVSKfk6PlJSLGSNfzW2sbM6lidQcM254L9SnSLQwvwPTvg2H646hOBbhEP-02WEYGWyGuLZgoBPK7ylusOg47lDlumnKWyAS4hr-sxvE6bmqpcQxfX_VGFuY4qOpv9cJokWjnSrPB1-8hrfufE393UsVYK6SOqZuR2B0ntwDe2xKizz91QfY8QAH80yu7pHEY7lY8DhPLMcNd9OdA3BZ-Maca3lRnlL06a8VKLg-vgiRSW7lc3UNAE8jVCD6Dt3saYYJQfAZvFgZmFGHGohuEeDKmAAASFMYAUkU2zFs72kVfwLPUseDyo9clDbgPdBVQ\\\\/\",\"pixel_tracking_url\":\"https:\\\\/\\\\/tracking.musixmatch.com\\\\/t1.0\\\\/m_img\\\\/e_1\\\\/sn_0\\\\/l_18006211\\\\/su_0\\\\/rs_0\\\\/tr_3vUCABOsv6dIZWqiA2V9SRQI3i7XGYIOfsW1EdIzj7xV5LQyvIFrALfe-e688IOZjoHK6hfcWxVszXLn0hZZSanwk3AIetEz-dui9ZRyDVuzTHAbGzlzbnQMysqoFJiPFL0VF-geuCOMw2xOq9jW_c9v4XdBnExGyhvTPUx0kDDbHyqtXaH4vCsQUvP9WisgQdFLexITsdbbp_7nBIkMAouNZjjT2_Q_GPezJIRuISPki90oLrcKrW_bxPwahkaHu44AkwUr2i9H8n5LCqUKM-07XxYwW4Jo_2LgL54AeHLzpkNtMzl80FOZlQqaDp-QvNYXDYw3byXGwDsIxinMl5NJ_r0JwzNNoK8h-JLBm6Lm9ww3qG5h52rz_7FlSOc1-lgrvhCrEktUTMuSXF4zJ5QAxxLjXaeWX6m_POsdC09jdzLJV8O_kXXSRN8gpClwzeneOSQMF4GVxfoJ0X-3j9IBWL4zkA6ObQ\\\\/\",\"html_tracking_url\":\"https:\\\\/\\\\/tracking.musixmatch.com\\\\/t1.0\\\\/m_html\\\\/e_1\\\\/sn_0\\\\/l_18006211\\\\/su_0\\\\/rs_0\\\\/tr_3vUCABXrBEI83qF_HW0MMkoS8Y-tInfqKtXOVXwAdVJ5iVX_grxiXZwvDW6wvBmJhjg95tZRGAye8TUPSKI8tr9_AQIGMAw-y32Ih8hzwCDS6LKYuhu5nYKHAx60KTlFy0y_gV7nXr5T0TI_eRhdJRlZVdEJYrFbGH8eD8pH5fg1qyi2htPURUvoGh2lJgiwVjdWNpAYTngOnBF9R-zi9BjTatxRRI2AQAkgF9o7m5ystz-0fmkNPiJ0BN1KQuH1w-PvQPWGz2u4eyMqXTVkZQc-rrQWJWkrFi2-H2Kd2N_KxnGirdOLJ11xc3l97JQ-iCVrNK5rHIQQzhFoWyI4depxm4ZTK6NhX0f7J59Sy5x3veMirUCHpnZT2wToI9yCLP8kfjDUsS4BFae2AXEKthtBKkz3_Bbb0TIPOTZYb0osP5wXRwUSNOSjLG1bVzZd86tZzTuJrJP2h3V1PLWvdlEtM0m1dTlIEw\\\\/\",\"lyrics_copyright\":\"Lyrics powered by www.musixmatch.com. This Lyrics is NOT for Commercial use and only 30% of the lyrics are returned.\",\"writer_list\":[],\"publisher_list\":[],\"backlink_url\":\"https:\\\\/\\\\/www.musixmatch.com\\\\/lyrics\\\\/Gotye-feat-Kimbra\\\\/Somebody-That-I-Used-to-Know?utm_source=application&utm_campaign=api&utm_medium=EPFL%3A1409617961899\",\"updated_time\":\"2018-07-02T09:54:46Z\"}}}}'"
      ]
     },
     "execution_count": 5,
     "metadata": {},
     "output_type": "execute_result"
    }
   ],
   "source": [
    "requests.get(\"http://api.musixmatch.com/ws/1.1/track.lyrics.get?track_id=15953433&apikey=\"+api_key).text"
   ]
  },
  {
   "cell_type": "code",
   "execution_count": 6,
   "metadata": {},
   "outputs": [],
   "source": [
    "import json as json"
   ]
  },
  {
   "cell_type": "code",
   "execution_count": 7,
   "metadata": {},
   "outputs": [
    {
     "data": {
      "text/plain": [
       "\"Now and then I think of when we were together\\nLike when you said you felt so happy you could die\\nTold myself that you were right for me\\nBut felt so lonely in your company\\nBut that was love, and it's an ache I still remember\\n\\nYou can get addicted to a certain kind of sadness\\nLike resignation to the end, always the end\\nSo when we found that we could not make sense\\nWell, you said that we would still be friends\\nBut I'll admit that I was glad that it was over\\n\\nBut you didn't have to cut me off\\nMake out like it never happened and that we were nothing\\nAnd I don't even need your love\\nBut you treat me like a stranger, and that feels so rough\\n\\nNo, you didn't have to stoop so low\\n...\\n\\n******* This Lyrics is NOT for Commercial use *******\\n(1409617961899)\""
      ]
     },
     "execution_count": 7,
     "metadata": {},
     "output_type": "execute_result"
    }
   ],
   "source": [
    "r = requests.get(\"http://api.musixmatch.com/ws/1.1/track.lyrics.get?track_id=15953433&apikey=\"+ api_key)\n",
    "resp = r.json()\n",
    "resp['message']['body']['lyrics']['lyrics_body']"
   ]
  },
  {
   "cell_type": "code",
   "execution_count": 11,
   "metadata": {},
   "outputs": [
    {
     "data": {
      "text/plain": [
       "{'lyrics': {'lyrics_id': 18006211,\n",
       "  'can_edit': 0,\n",
       "  'locked': 0,\n",
       "  'published_status': 5,\n",
       "  'action_requested': '',\n",
       "  'verified': 0,\n",
       "  'restricted': 0,\n",
       "  'instrumental': 0,\n",
       "  'explicit': 0,\n",
       "  'lyrics_body': \"Now and then I think of when we were together\\nLike when you said you felt so happy you could die\\nTold myself that you were right for me\\nBut felt so lonely in your company\\nBut that was love, and it's an ache I still remember\\n\\nYou can get addicted to a certain kind of sadness\\nLike resignation to the end, always the end\\nSo when we found that we could not make sense\\nWell, you said that we would still be friends\\nBut I'll admit that I was glad that it was over\\n\\nBut you didn't have to cut me off\\nMake out like it never happened and that we were nothing\\nAnd I don't even need your love\\nBut you treat me like a stranger, and that feels so rough\\n\\nNo, you didn't have to stoop so low\\n...\\n\\n******* This Lyrics is NOT for Commercial use *******\\n(1409617961899)\",\n",
       "  'lyrics_language': 'en',\n",
       "  'lyrics_language_description': 'English',\n",
       "  'script_tracking_url': 'https://tracking.musixmatch.com/t1.0/m_js/e_1/sn_0/l_18006211/su_0/rs_0/tr_3vUCAF8YdLMYfXc1XNnoKx3-zenwGViuQdxVprqR8OcrjefB9fSJWll--6HsBAAY5zUxo5PS0EsO3Y3NTXsL3HIDfFj6CwcGsvrkYTidhERJpJ1BIm-MBFHQPMNSJv7AdPq_UOiU5wzYMvz-g1n7pRqHuGUp-i7dTpPuYHum6ejzR4HqD6KeEDLVrvjlK6w3skQIYKBG9wy3Ewdqo065coiZhf6zODMr8sCjW1YDazUHWw-ZWLDvQzAXFdBcz8rM0MpF_lmQZi4UiuMo4FtU8mThN2L1zodP2I1th8TnVs-wQuSu6ZDs1OG4wmyQ7NGEPnsGWO6eistA2dETZMSySHHhCmq06XmTfdZ3DO4ncQ3KgOuHWeKk08TP9lcHh8Y2OxzqzbXo4q8SDuEk1WXZVJYcaFT326BC6wSKpai_NK_5IfubY-xrIpe6qXfQDKCBSD7D6MUsXwnLofgIsu_PUQFWmd32NnljLQ/',\n",
       "  'pixel_tracking_url': 'https://tracking.musixmatch.com/t1.0/m_img/e_1/sn_0/l_18006211/su_0/rs_0/tr_3vUCAAaWu1OrKX0uForWc3GD-05L0AW-ZIq8ZwAPXH8d_ZCWpRp4esHr1UMsOZOhet_th-BEqDjg5MTynVQ32iwzg8fsy1Tr72YAqaMRoJYIN40CNrHQ2u9NvJznHp-BgccffTiSw0HCOabS4v4_TjvCKCzk66J_wwKP7qjJBzWnu5sjRs8fqkKSfv74c1JI7bSnq3CDVgwli0BjTz3Jfk6CV2uYI1HfaKamnpLQth0b6ce5kLQSCFtbfcYZKKt2aKzy-oIjFlVFemhcek3Rzp-BXt-ZK0hQq_NiHI_UDmpPrn_9_g7OLtLhLfNn_Um-bRxtvGIt5kujaU3e7C7Dpmgp6oCa7DnreBT2F19pmeBXmxA6YNgyLr1lFkTD4GnVoC0DiAMRAdiC4I25OhBiqEIbDXZrgXRluxYw921oZhNDgZXzM0Zt5gZAz2vjqnkJdzzaPfC4gZ1RpRVM073in6PlXD0MAjcOvA/',\n",
       "  'html_tracking_url': 'https://tracking.musixmatch.com/t1.0/m_html/e_1/sn_0/l_18006211/su_0/rs_0/tr_3vUCAOofYqWd3Hy3nmVRyDNQXfXtotA4tafYxEv3EkydnvVYADCRQ2dBX507rn9P09v7TpVbQVuuXKU9eYuDLkXs877ef6JZTYECyZCnuKrHqYA12Q9j5tl1AXQD1OrrOygIELM7xkpHbVoKi_W-LwDvR2fzp5uIVgxnxQ9Bp72sFG8foC92cIYizJg342XXBylR1fjLf0PDxay40ZlqzrUhpX7H9uqGE1JK1mbWNZTucGMIo602FdiPBOBzjGcJUV3Hsx_UJU6uo0nowzH7ICpvCwpDRIV5MXyhVnvi0bHObJL6EHOKg0Z9Gkng0zsXsDA5Me7ESyWeki_7B6qfDDZc6khTXe4aJmgiW8GoSSQmSeempIwByn-QzoR_bHvjnsDMXMa_hJWgZ7Pi1JgRTb-fXBIvucyT1Ygb9KstD_Tf0OPIIQ0NG9PYwaX0-LJXXviZg5k52ES0c9xNV1gcWDQstHd_gGJp6g/',\n",
       "  'lyrics_copyright': 'Lyrics powered by www.musixmatch.com. This Lyrics is NOT for Commercial use and only 30% of the lyrics are returned.',\n",
       "  'writer_list': [],\n",
       "  'publisher_list': [],\n",
       "  'backlink_url': 'https://www.musixmatch.com/lyrics/Gotye-feat-Kimbra/Somebody-That-I-Used-to-Know?utm_source=application&utm_campaign=api&utm_medium=EPFL%3A1409617961899',\n",
       "  'updated_time': '2018-07-02T09:54:46Z'}}"
      ]
     },
     "execution_count": 11,
     "metadata": {},
     "output_type": "execute_result"
    }
   ],
   "source": [
    "resp['message']['body']"
   ]
  },
  {
   "cell_type": "markdown",
   "metadata": {},
   "source": [
    "Once we have the song id we can get the beginning of the lyrics with the following function"
   ]
  },
  {
   "cell_type": "code",
   "execution_count": 12,
   "metadata": {},
   "outputs": [],
   "source": [
    "def get_lyrics(song_id):\n",
    "    r = requests.get(\"http://api.musixmatch.com/ws/1.1/track.lyrics.get?track_id=\"+song_id+\"&apikey=\"+ api_key)\n",
    "    resp = r.json()\n",
    "    return resp['message']['body']['lyrics']['lyrics_body']"
   ]
  },
  {
   "cell_type": "markdown",
   "metadata": {},
   "source": [
    "How to get the song id ?\n",
    "- Query song title : q_track\n",
    "- song artist : q_artist\n",
    "- Any word in the lyrics : q_lyrics\n",
    "- Any word in the song title or artist name : q_track_artist"
   ]
  },
  {
   "cell_type": "code",
   "execution_count": 13,
   "metadata": {
    "scrolled": false
   },
   "outputs": [
    {
     "name": "stdout",
     "output_type": "stream",
     "text": [
      "Zoom Karaoke  -  Run the World (Girls) [In the Style of Beyonce] {Karaoke Version}  : 68425173\n",
      "Tungevaag  -  Women of Marvel  : 82892299\n",
      "GEIST  -  The Lost but Sublime  : 76470583\n",
      "Pro Sound Effects Library  -  Sleigh Bells 3  : 34867790\n",
      "City Boy  -  The Day the Earth Caught Fire  : 18232844\n",
      "Annekei  -  Touch  : 15654764\n",
      "Radka Toneff  -  The World  : 1788533\n",
      "TheFatRat  -  TheFatRat on Ministry of Sound Radio  : 74533087\n",
      "Jean C. Roché  -  Pallid Swift  : 6786585\n",
      "Sound Effects Library  -  Camera - Automatic: Short Servo Burst Cameras  : 42640822\n"
     ]
    }
   ],
   "source": [
    "r = requests.get(\"http://api.musixmatch.com/ws/1.1/track.search?q_lyrics=who%20run%20the%20world&apikey=\"+ api_key)\n",
    "resp = r.json()\n",
    "track_list = resp[\"message\"][\"body\"][\"track_list\"]\n",
    "\n",
    "for track in track_list :\n",
    "    print(track[\"track\"][\"artist_name\"],\" - \" ,track[\"track\"][\"track_name\"],\" :\", track[\"track\"][\"track_id\"])"
   ]
  },
  {
   "cell_type": "code",
   "execution_count": 14,
   "metadata": {},
   "outputs": [
    {
     "data": {
      "text/plain": [
       "{'track': {'track_id': 68425173,\n",
       "  'track_mbid': '',\n",
       "  'track_isrc': '',\n",
       "  'track_spotify_id': '',\n",
       "  'track_soundcloud_id': '',\n",
       "  'track_xboxmusic_id': '',\n",
       "  'track_name': 'Run the World (Girls) [In the Style of Beyonce] {Karaoke Version}',\n",
       "  'track_name_translation_list': [],\n",
       "  'track_rating': 1,\n",
       "  'track_length': 236,\n",
       "  'commontrack_id': 37737917,\n",
       "  'instrumental': 0,\n",
       "  'explicit': 0,\n",
       "  'has_lyrics': 1,\n",
       "  'has_lyrics_crowd': 0,\n",
       "  'has_subtitles': 0,\n",
       "  'has_richsync': 0,\n",
       "  'num_favourite': 0,\n",
       "  'lyrics_id': 10430689,\n",
       "  'subtitle_id': 0,\n",
       "  'album_id': 19013078,\n",
       "  'album_name': 'Zoom Karaoke Gap Fillers, Vol. 60',\n",
       "  'artist_id': 24832895,\n",
       "  'artist_mbid': '',\n",
       "  'artist_name': 'Zoom Karaoke',\n",
       "  'album_coverart_100x100': 'http://s.mxmcdn.net/images-storage/albums/nocover.png',\n",
       "  'album_coverart_350x350': '',\n",
       "  'album_coverart_500x500': '',\n",
       "  'album_coverart_800x800': '',\n",
       "  'track_share_url': 'https://www.musixmatch.com/lyrics/Zoom-Karaoke/Run-the-World-Girls-In-the-Style-of-Beyonce-%7BKaraoke-Version%7D?utm_source=application&utm_campaign=api&utm_medium=EPFL%3A1409617961899',\n",
       "  'track_edit_url': 'https://www.musixmatch.com/lyrics/Zoom-Karaoke/Run-the-World-Girls-In-the-Style-of-Beyonce-%7BKaraoke-Version%7D/edit?utm_source=application&utm_campaign=api&utm_medium=EPFL%3A1409617961899',\n",
       "  'commontrack_vanity_id': 'Zoom-Karaoke/Run-the-World-Girls-In-the-Style-of-Beyonce-{Karaoke-Version}',\n",
       "  'restricted': 0,\n",
       "  'first_release_date': '2013-05-06T00:00:00Z',\n",
       "  'updated_time': '2015-02-20T21:56:08Z',\n",
       "  'primary_genres': {'music_genre_list': [{'music_genre': {'music_genre_id': 52,\n",
       "      'music_genre_parent_id': 34,\n",
       "      'music_genre_name': 'Karaoke',\n",
       "      'music_genre_name_extended': 'Karaoke',\n",
       "      'music_genre_vanity': 'Karaoke'}}]},\n",
       "  'secondary_genres': {'music_genre_list': []}}}"
      ]
     },
     "execution_count": 14,
     "metadata": {},
     "output_type": "execute_result"
    }
   ],
   "source": [
    "track_list[0]"
   ]
  },
  {
   "cell_type": "markdown",
   "metadata": {},
   "source": [
    "Directly get the beginning of lyrics from title and artist"
   ]
  },
  {
   "cell_type": "code",
   "execution_count": 45,
   "metadata": {},
   "outputs": [
    {
     "data": {
      "text/plain": [
       "\"Yeah, yeah\\nWhen I walk on by, girls be looking like damn he fly\\nI pimp to the beat\\nWalking on the street in my new LaFreak, yeah\\nThis is how I roll, animal print, pants out control\\nIt's Redfoo with the big F O\\nThey like Bruce Lee rock at the club (yeah)\\n\\nGirl look at that body\\nGirl look at that body\\nGirl look at that body\\nI-I-I work out\\nGirl look at that body\\nGirl look at that body\\nGirl look at that body\\nI-I-I work out\\n\\nWhen I walk in the spot, this is what I see (Okay)\\nEverybody stops and they staring at me\\nI got passion in my pants and I ain't afraid to show it\\n(Show it, show it, show it...)\\n\\nI'm sexy and I know it\\n...\\n\\n******* This Lyrics is NOT for Commercial use *******\""
      ]
     },
     "execution_count": 45,
     "metadata": {},
     "output_type": "execute_result"
    }
   ],
   "source": [
    "r = requests.get(\"http://api.musixmatch.com/ws/1.1/matcher.lyrics.get?q_track=sexy%20and%20i%20know%20it&q_artist=lmfao&apikey=\"+ api_key)\n",
    "resp = r.json()\n",
    "resp[\"message\"][\"body\"][\"lyrics\"][\"lyrics_body\"]"
   ]
  }
 ],
 "metadata": {
  "anaconda-cloud": {},
  "kernelspec": {
   "display_name": "Python 3",
   "language": "python",
   "name": "python3"
  },
  "language_info": {
   "codemirror_mode": {
    "name": "ipython",
    "version": 3
   },
   "file_extension": ".py",
   "mimetype": "text/x-python",
   "name": "python",
   "nbconvert_exporter": "python",
   "pygments_lexer": "ipython3",
   "version": "3.6.5"
  }
 },
 "nbformat": 4,
 "nbformat_minor": 2
}
