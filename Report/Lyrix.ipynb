{
 "cells": [
  {
   "cell_type": "markdown",
   "metadata": {},
   "source": [
    "# Lyrix\n",
    "## Semester project - Report\n",
    "<b> Olivier Couque & Emma Lejal Glaude <br>\n",
    "Supervisor: Panayotis Smeros, Lab: LSIR </b><br>\n",
    "\n",
    "The goal of this project is to merge lyrics from two different music genres. <br>\n",
    "Table of content:\n",
    "1. [Data Gathering](#data)\n",
    "2. [Data Cleaning](#cleaning)\n",
    "3. [Preprocessing](#process)\n",
    "4. [MUSE](#muse)\n",
    "5. [Neural Network](#nn)\n",
    "6. [Webpage](#site)"
   ]
  },
  {
   "cell_type": "markdown",
   "metadata": {},
   "source": [
    "<a id=\"top\"></a>"
   ]
  },
  {
   "cell_type": "markdown",
   "metadata": {},
   "source": [
    "### Litterature\n",
    "\n",
    "Regarding this project we had the following sources:\n",
    "- https://github.com/robbiebarrat/rapping-neural-network\n",
    "- http://www.encore.ai\n",
    "- https://github.com/tonybeltramelli/Deep-Lyrics\n",
    "- https://raplyrics.eu"
   ]
  },
  {
   "cell_type": "markdown",
   "metadata": {},
   "source": [
    "[Go to top](#top)"
   ]
  },
  {
   "cell_type": "markdown",
   "metadata": {},
   "source": [
    "<a id=\"data\"></a>"
   ]
  },
  {
   "cell_type": "code",
   "execution_count": 47,
   "metadata": {},
   "outputs": [],
   "source": [
    "#Usefull imports\n",
    "import numpy as np\n",
    "import pandas as pd\n",
    "from langdetect import detect\n",
    "import matplotlib.pyplot as plt\n",
    "import time\n",
    "import re\n",
    "import pickle\n",
    "import requests\n",
    "from bs4 import BeautifulSoup\n",
    "import string\n",
    "import sys\n",
    "import codecs\n",
    "import json\n",
    "import spacy"
   ]
  },
  {
   "cell_type": "markdown",
   "metadata": {},
   "source": [
    "## Data Gathering\n",
    "\n",
    "To gather data we had multiple difficulties. First of all we need entire lyrics and not only the bag of words contained in the lyrics. However this is difficult to get as the lyrics are protected by Intellectual Property. Consequently there are no open database with entire lyrics available. On top of this, we need the lyrics classified according with the different musical genres. <br>\n",
    "We started to look for datasets and encountered the One Million Song Dataset, unfortunately, this dataset contains only the bag of words. Afterwards we considered the MusicBrainz dataset but realized we could only get about a third of the lyrics per song. <br>\n",
    "We turned to the Kaggle website to look for datasets and found the following ones :\n",
    "- https://www.kaggle.com/gyani95/380000-lyrics-from-metrolyrics"
   ]
  },
  {
   "cell_type": "code",
   "execution_count": 2,
   "metadata": {},
   "outputs": [],
   "source": [
    "filepath = \"kaggle_lyrics.csv\" #lyrics\n",
    "lyrics_df = pd.read_csv(filepath)\n",
    "lyrics_df.set_index('index', inplace = True)"
   ]
  },
  {
   "cell_type": "code",
   "execution_count": 3,
   "metadata": {
    "scrolled": true
   },
   "outputs": [
    {
     "name": "stdout",
     "output_type": "stream",
     "text": [
      "Number of songs: 362237\n"
     ]
    },
    {
     "data": {
      "text/html": [
       "<div>\n",
       "<style scoped>\n",
       "    .dataframe tbody tr th:only-of-type {\n",
       "        vertical-align: middle;\n",
       "    }\n",
       "\n",
       "    .dataframe tbody tr th {\n",
       "        vertical-align: top;\n",
       "    }\n",
       "\n",
       "    .dataframe thead th {\n",
       "        text-align: right;\n",
       "    }\n",
       "</style>\n",
       "<table border=\"1\" class=\"dataframe\">\n",
       "  <thead>\n",
       "    <tr style=\"text-align: right;\">\n",
       "      <th></th>\n",
       "      <th>song</th>\n",
       "      <th>year</th>\n",
       "      <th>artist</th>\n",
       "      <th>genre</th>\n",
       "      <th>lyrics</th>\n",
       "    </tr>\n",
       "    <tr>\n",
       "      <th>index</th>\n",
       "      <th></th>\n",
       "      <th></th>\n",
       "      <th></th>\n",
       "      <th></th>\n",
       "      <th></th>\n",
       "    </tr>\n",
       "  </thead>\n",
       "  <tbody>\n",
       "    <tr>\n",
       "      <th>0</th>\n",
       "      <td>ego-remix</td>\n",
       "      <td>2009</td>\n",
       "      <td>beyonce-knowles</td>\n",
       "      <td>Pop</td>\n",
       "      <td>Oh baby, how you doing?\\nYou know I'm gonna cu...</td>\n",
       "    </tr>\n",
       "    <tr>\n",
       "      <th>1</th>\n",
       "      <td>then-tell-me</td>\n",
       "      <td>2009</td>\n",
       "      <td>beyonce-knowles</td>\n",
       "      <td>Pop</td>\n",
       "      <td>playin' everything so easy,\\nit's like you see...</td>\n",
       "    </tr>\n",
       "    <tr>\n",
       "      <th>2</th>\n",
       "      <td>honesty</td>\n",
       "      <td>2009</td>\n",
       "      <td>beyonce-knowles</td>\n",
       "      <td>Pop</td>\n",
       "      <td>If you search\\nFor tenderness\\nIt isn't hard t...</td>\n",
       "    </tr>\n",
       "    <tr>\n",
       "      <th>3</th>\n",
       "      <td>you-are-my-rock</td>\n",
       "      <td>2009</td>\n",
       "      <td>beyonce-knowles</td>\n",
       "      <td>Pop</td>\n",
       "      <td>Oh oh oh I, oh oh oh I\\n[Verse 1:]\\nIf I wrote...</td>\n",
       "    </tr>\n",
       "    <tr>\n",
       "      <th>4</th>\n",
       "      <td>black-culture</td>\n",
       "      <td>2009</td>\n",
       "      <td>beyonce-knowles</td>\n",
       "      <td>Pop</td>\n",
       "      <td>Party the people, the people the party it's po...</td>\n",
       "    </tr>\n",
       "  </tbody>\n",
       "</table>\n",
       "</div>"
      ],
      "text/plain": [
       "                  song  year           artist genre  \\\n",
       "index                                                 \n",
       "0            ego-remix  2009  beyonce-knowles   Pop   \n",
       "1         then-tell-me  2009  beyonce-knowles   Pop   \n",
       "2              honesty  2009  beyonce-knowles   Pop   \n",
       "3      you-are-my-rock  2009  beyonce-knowles   Pop   \n",
       "4        black-culture  2009  beyonce-knowles   Pop   \n",
       "\n",
       "                                                  lyrics  \n",
       "index                                                     \n",
       "0      Oh baby, how you doing?\\nYou know I'm gonna cu...  \n",
       "1      playin' everything so easy,\\nit's like you see...  \n",
       "2      If you search\\nFor tenderness\\nIt isn't hard t...  \n",
       "3      Oh oh oh I, oh oh oh I\\n[Verse 1:]\\nIf I wrote...  \n",
       "4      Party the people, the people the party it's po...  "
      ]
     },
     "execution_count": 3,
     "metadata": {},
     "output_type": "execute_result"
    }
   ],
   "source": [
    "print(\"Number of songs: {}\".format(len(lyrics_df)))\n",
    "lyrics_df.head()"
   ]
  },
  {
   "cell_type": "code",
   "execution_count": 4,
   "metadata": {},
   "outputs": [
    {
     "name": "stdout",
     "output_type": "stream",
     "text": [
      "Number of songs WITH available lyrics: 266557\n"
     ]
    }
   ],
   "source": [
    "lyrics_df.dropna(axis = 'index', subset = ['lyrics'], inplace = True)\n",
    "print(\"Number of songs WITH available lyrics: {}\".format(len(lyrics_df)))"
   ]
  },
  {
   "cell_type": "code",
   "execution_count": 5,
   "metadata": {},
   "outputs": [],
   "source": [
    "artists = set(lyrics_df[\"artist\"])\n",
    "genres = set(lyrics_df[\"genre\"])"
   ]
  },
  {
   "cell_type": "code",
   "execution_count": 6,
   "metadata": {},
   "outputs": [
    {
     "name": "stdout",
     "output_type": "stream",
     "text": [
      "Genres: {'Rock', 'R&B', 'Indie', 'Jazz', 'Pop', 'Folk', 'Other', 'Electronic', 'Metal', 'Country', 'Hip-Hop', 'Not Available'}\n",
      "Number of artists: 14543\n"
     ]
    }
   ],
   "source": [
    "print(\"Genres: {}\".format(genres))\n",
    "print(\"Number of artists: {}\".format(len(artists)))"
   ]
  },
  {
   "cell_type": "code",
   "execution_count": 7,
   "metadata": {},
   "outputs": [
    {
     "data": {
      "text/plain": [
       "{'Country': 14387,\n",
       " 'Electronic': 7966,\n",
       " 'Folk': 2243,\n",
       " 'Hip-Hop': 24850,\n",
       " 'Indie': 3149,\n",
       " 'Jazz': 7971,\n",
       " 'Metal': 23759,\n",
       " 'Not Available': 23941,\n",
       " 'Other': 5189,\n",
       " 'Pop': 40466,\n",
       " 'R&B': 3401,\n",
       " 'Rock': 109235}"
      ]
     },
     "execution_count": 7,
     "metadata": {},
     "output_type": "execute_result"
    }
   ],
   "source": [
    "songs_per_genre = {}\n",
    "total_songs = 0\n",
    "unknown_songs = 0\n",
    "for genre in genres:\n",
    "    nb = len(lyrics_df[lyrics_df['genre'] == genre])\n",
    "    songs_per_genre[genre] = nb\n",
    "    total_songs += nb\n",
    "    if genre == \"Not Available\" or genre == \"Other\":\n",
    "        unknown_songs += nb\n",
    "songs_per_genre"
   ]
  },
  {
   "cell_type": "code",
   "execution_count": 8,
   "metadata": {},
   "outputs": [
    {
     "data": {
      "text/plain": [
       "0.10928244240443882"
      ]
     },
     "execution_count": 8,
     "metadata": {},
     "output_type": "execute_result"
    }
   ],
   "source": [
    "unknown_songs/total_songs"
   ]
  },
  {
   "cell_type": "code",
   "execution_count": 9,
   "metadata": {},
   "outputs": [
    {
     "data": {
      "text/plain": [
       "266557"
      ]
     },
     "execution_count": 9,
     "metadata": {},
     "output_type": "execute_result"
    }
   ],
   "source": [
    "total_songs"
   ]
  },
  {
   "cell_type": "markdown",
   "metadata": {},
   "source": [
    "Use the detect library to detect the main language of each song and remove the songs that are detected as NOT english"
   ]
  },
  {
   "cell_type": "code",
   "execution_count": null,
   "metadata": {},
   "outputs": [],
   "source": [
    "def language_of_lyrics(lyrics):\n",
    "    try:\n",
    "        lang = detect(lyrics)\n",
    "        return lang\n",
    "    except:\n",
    "        return \"no lang\"\n",
    "\n",
    "#lyrics_df['language'] = lyrics_df.apply(lambda row: language_of_lyrics, axis = 1)\n",
    "list_langs = []\n",
    "for i, row in lyrics_df.iterrows():\n",
    "    if i % 1000 == 0:\n",
    "        print(i)\n",
    "    lang = language_of_lyrics(row['lyrics'])\n",
    "    list_langs.append(lang)"
   ]
  },
  {
   "cell_type": "code",
   "execution_count": null,
   "metadata": {},
   "outputs": [],
   "source": [
    "lyrics_df['language'] = list_langs"
   ]
  },
  {
   "cell_type": "code",
   "execution_count": null,
   "metadata": {},
   "outputs": [],
   "source": [
    "lyrics_df.to_csv(\"kaggle_lyrics_with_lang.csv\")"
   ]
  },
  {
   "cell_type": "code",
   "execution_count": 11,
   "metadata": {},
   "outputs": [
    {
     "ename": "FileNotFoundError",
     "evalue": "File b'kaggle_lyrics_with_lang.csv' does not exist",
     "output_type": "error",
     "traceback": [
      "\u001b[0;31m---------------------------------------------------------------------------\u001b[0m",
      "\u001b[0;31mFileNotFoundError\u001b[0m                         Traceback (most recent call last)",
      "\u001b[0;32m<ipython-input-11-774d4e87407b>\u001b[0m in \u001b[0;36m<module>\u001b[0;34m()\u001b[0m\n\u001b[0;32m----> 1\u001b[0;31m \u001b[0mlyrics_df\u001b[0m \u001b[0;34m=\u001b[0m \u001b[0mpd\u001b[0m\u001b[0;34m.\u001b[0m\u001b[0mread_csv\u001b[0m\u001b[0;34m(\u001b[0m\u001b[0;34m\"kaggle_lyrics_with_lang.csv\"\u001b[0m\u001b[0;34m)\u001b[0m\u001b[0;34m\u001b[0m\u001b[0m\n\u001b[0m",
      "\u001b[0;32m~/anaconda3/lib/python3.5/site-packages/pandas/io/parsers.py\u001b[0m in \u001b[0;36mparser_f\u001b[0;34m(filepath_or_buffer, sep, delimiter, header, names, index_col, usecols, squeeze, prefix, mangle_dupe_cols, dtype, engine, converters, true_values, false_values, skipinitialspace, skiprows, nrows, na_values, keep_default_na, na_filter, verbose, skip_blank_lines, parse_dates, infer_datetime_format, keep_date_col, date_parser, dayfirst, iterator, chunksize, compression, thousands, decimal, lineterminator, quotechar, quoting, escapechar, comment, encoding, dialect, tupleize_cols, error_bad_lines, warn_bad_lines, skipfooter, doublequote, delim_whitespace, low_memory, memory_map, float_precision)\u001b[0m\n\u001b[1;32m    676\u001b[0m                     skip_blank_lines=skip_blank_lines)\n\u001b[1;32m    677\u001b[0m \u001b[0;34m\u001b[0m\u001b[0m\n\u001b[0;32m--> 678\u001b[0;31m         \u001b[0;32mreturn\u001b[0m \u001b[0m_read\u001b[0m\u001b[0;34m(\u001b[0m\u001b[0mfilepath_or_buffer\u001b[0m\u001b[0;34m,\u001b[0m \u001b[0mkwds\u001b[0m\u001b[0;34m)\u001b[0m\u001b[0;34m\u001b[0m\u001b[0m\n\u001b[0m\u001b[1;32m    679\u001b[0m \u001b[0;34m\u001b[0m\u001b[0m\n\u001b[1;32m    680\u001b[0m     \u001b[0mparser_f\u001b[0m\u001b[0;34m.\u001b[0m\u001b[0m__name__\u001b[0m \u001b[0;34m=\u001b[0m \u001b[0mname\u001b[0m\u001b[0;34m\u001b[0m\u001b[0m\n",
      "\u001b[0;32m~/anaconda3/lib/python3.5/site-packages/pandas/io/parsers.py\u001b[0m in \u001b[0;36m_read\u001b[0;34m(filepath_or_buffer, kwds)\u001b[0m\n\u001b[1;32m    438\u001b[0m \u001b[0;34m\u001b[0m\u001b[0m\n\u001b[1;32m    439\u001b[0m     \u001b[0;31m# Create the parser.\u001b[0m\u001b[0;34m\u001b[0m\u001b[0;34m\u001b[0m\u001b[0m\n\u001b[0;32m--> 440\u001b[0;31m     \u001b[0mparser\u001b[0m \u001b[0;34m=\u001b[0m \u001b[0mTextFileReader\u001b[0m\u001b[0;34m(\u001b[0m\u001b[0mfilepath_or_buffer\u001b[0m\u001b[0;34m,\u001b[0m \u001b[0;34m**\u001b[0m\u001b[0mkwds\u001b[0m\u001b[0;34m)\u001b[0m\u001b[0;34m\u001b[0m\u001b[0m\n\u001b[0m\u001b[1;32m    441\u001b[0m \u001b[0;34m\u001b[0m\u001b[0m\n\u001b[1;32m    442\u001b[0m     \u001b[0;32mif\u001b[0m \u001b[0mchunksize\u001b[0m \u001b[0;32mor\u001b[0m \u001b[0miterator\u001b[0m\u001b[0;34m:\u001b[0m\u001b[0;34m\u001b[0m\u001b[0m\n",
      "\u001b[0;32m~/anaconda3/lib/python3.5/site-packages/pandas/io/parsers.py\u001b[0m in \u001b[0;36m__init__\u001b[0;34m(self, f, engine, **kwds)\u001b[0m\n\u001b[1;32m    785\u001b[0m             \u001b[0mself\u001b[0m\u001b[0;34m.\u001b[0m\u001b[0moptions\u001b[0m\u001b[0;34m[\u001b[0m\u001b[0;34m'has_index_names'\u001b[0m\u001b[0;34m]\u001b[0m \u001b[0;34m=\u001b[0m \u001b[0mkwds\u001b[0m\u001b[0;34m[\u001b[0m\u001b[0;34m'has_index_names'\u001b[0m\u001b[0;34m]\u001b[0m\u001b[0;34m\u001b[0m\u001b[0m\n\u001b[1;32m    786\u001b[0m \u001b[0;34m\u001b[0m\u001b[0m\n\u001b[0;32m--> 787\u001b[0;31m         \u001b[0mself\u001b[0m\u001b[0;34m.\u001b[0m\u001b[0m_make_engine\u001b[0m\u001b[0;34m(\u001b[0m\u001b[0mself\u001b[0m\u001b[0;34m.\u001b[0m\u001b[0mengine\u001b[0m\u001b[0;34m)\u001b[0m\u001b[0;34m\u001b[0m\u001b[0m\n\u001b[0m\u001b[1;32m    788\u001b[0m \u001b[0;34m\u001b[0m\u001b[0m\n\u001b[1;32m    789\u001b[0m     \u001b[0;32mdef\u001b[0m \u001b[0mclose\u001b[0m\u001b[0;34m(\u001b[0m\u001b[0mself\u001b[0m\u001b[0;34m)\u001b[0m\u001b[0;34m:\u001b[0m\u001b[0;34m\u001b[0m\u001b[0m\n",
      "\u001b[0;32m~/anaconda3/lib/python3.5/site-packages/pandas/io/parsers.py\u001b[0m in \u001b[0;36m_make_engine\u001b[0;34m(self, engine)\u001b[0m\n\u001b[1;32m   1012\u001b[0m     \u001b[0;32mdef\u001b[0m \u001b[0m_make_engine\u001b[0m\u001b[0;34m(\u001b[0m\u001b[0mself\u001b[0m\u001b[0;34m,\u001b[0m \u001b[0mengine\u001b[0m\u001b[0;34m=\u001b[0m\u001b[0;34m'c'\u001b[0m\u001b[0;34m)\u001b[0m\u001b[0;34m:\u001b[0m\u001b[0;34m\u001b[0m\u001b[0m\n\u001b[1;32m   1013\u001b[0m         \u001b[0;32mif\u001b[0m \u001b[0mengine\u001b[0m \u001b[0;34m==\u001b[0m \u001b[0;34m'c'\u001b[0m\u001b[0;34m:\u001b[0m\u001b[0;34m\u001b[0m\u001b[0m\n\u001b[0;32m-> 1014\u001b[0;31m             \u001b[0mself\u001b[0m\u001b[0;34m.\u001b[0m\u001b[0m_engine\u001b[0m \u001b[0;34m=\u001b[0m \u001b[0mCParserWrapper\u001b[0m\u001b[0;34m(\u001b[0m\u001b[0mself\u001b[0m\u001b[0;34m.\u001b[0m\u001b[0mf\u001b[0m\u001b[0;34m,\u001b[0m \u001b[0;34m**\u001b[0m\u001b[0mself\u001b[0m\u001b[0;34m.\u001b[0m\u001b[0moptions\u001b[0m\u001b[0;34m)\u001b[0m\u001b[0;34m\u001b[0m\u001b[0m\n\u001b[0m\u001b[1;32m   1015\u001b[0m         \u001b[0;32melse\u001b[0m\u001b[0;34m:\u001b[0m\u001b[0;34m\u001b[0m\u001b[0m\n\u001b[1;32m   1016\u001b[0m             \u001b[0;32mif\u001b[0m \u001b[0mengine\u001b[0m \u001b[0;34m==\u001b[0m \u001b[0;34m'python'\u001b[0m\u001b[0;34m:\u001b[0m\u001b[0;34m\u001b[0m\u001b[0m\n",
      "\u001b[0;32m~/anaconda3/lib/python3.5/site-packages/pandas/io/parsers.py\u001b[0m in \u001b[0;36m__init__\u001b[0;34m(self, src, **kwds)\u001b[0m\n\u001b[1;32m   1706\u001b[0m         \u001b[0mkwds\u001b[0m\u001b[0;34m[\u001b[0m\u001b[0;34m'usecols'\u001b[0m\u001b[0;34m]\u001b[0m \u001b[0;34m=\u001b[0m \u001b[0mself\u001b[0m\u001b[0;34m.\u001b[0m\u001b[0musecols\u001b[0m\u001b[0;34m\u001b[0m\u001b[0m\n\u001b[1;32m   1707\u001b[0m \u001b[0;34m\u001b[0m\u001b[0m\n\u001b[0;32m-> 1708\u001b[0;31m         \u001b[0mself\u001b[0m\u001b[0;34m.\u001b[0m\u001b[0m_reader\u001b[0m \u001b[0;34m=\u001b[0m \u001b[0mparsers\u001b[0m\u001b[0;34m.\u001b[0m\u001b[0mTextReader\u001b[0m\u001b[0;34m(\u001b[0m\u001b[0msrc\u001b[0m\u001b[0;34m,\u001b[0m \u001b[0;34m**\u001b[0m\u001b[0mkwds\u001b[0m\u001b[0;34m)\u001b[0m\u001b[0;34m\u001b[0m\u001b[0m\n\u001b[0m\u001b[1;32m   1709\u001b[0m \u001b[0;34m\u001b[0m\u001b[0m\n\u001b[1;32m   1710\u001b[0m         \u001b[0mpassed_names\u001b[0m \u001b[0;34m=\u001b[0m \u001b[0mself\u001b[0m\u001b[0;34m.\u001b[0m\u001b[0mnames\u001b[0m \u001b[0;32mis\u001b[0m \u001b[0;32mNone\u001b[0m\u001b[0;34m\u001b[0m\u001b[0m\n",
      "\u001b[0;32mpandas/_libs/parsers.pyx\u001b[0m in \u001b[0;36mpandas._libs.parsers.TextReader.__cinit__\u001b[0;34m()\u001b[0m\n",
      "\u001b[0;32mpandas/_libs/parsers.pyx\u001b[0m in \u001b[0;36mpandas._libs.parsers.TextReader._setup_parser_source\u001b[0;34m()\u001b[0m\n",
      "\u001b[0;31mFileNotFoundError\u001b[0m: File b'kaggle_lyrics_with_lang.csv' does not exist"
     ]
    }
   ],
   "source": [
    "lyrics_df = pd.read_csv(\"kaggle_lyrics_with_lang.csv\")"
   ]
  },
  {
   "cell_type": "code",
   "execution_count": null,
   "metadata": {},
   "outputs": [],
   "source": [
    "english_df = lyrics_df[lyrics_df['language'] == 'en']\n",
    "print(len(english_df))\n",
    "english_df.head()"
   ]
  },
  {
   "cell_type": "markdown",
   "metadata": {},
   "source": [
    "We will have a look at the distribution of the lyrics that we have. First we need to identify the main genre per artist. To do this we will use the Spotify API."
   ]
  },
  {
   "cell_type": "code",
   "execution_count": 13,
   "metadata": {},
   "outputs": [],
   "source": [
    "import spotipy\n",
    "import spotipy.oauth2 as oauth2\n",
    "import spotipy.util as util"
   ]
  },
  {
   "cell_type": "code",
   "execution_count": 15,
   "metadata": {},
   "outputs": [],
   "source": [
    "client_id = \"c829ff34022d4c3a9e65c30c10623765\"\n",
    "client_secret = \"8e998357ebf04fe092edab4915946e00\"\n",
    "\n",
    "credentials = oauth2.SpotifyClientCredentials(client_id, client_secret)\n",
    "\n",
    "token = credentials.get_access_token()\n",
    "sp = spotipy.Spotify(auth=token)"
   ]
  },
  {
   "cell_type": "code",
   "execution_count": 16,
   "metadata": {},
   "outputs": [
    {
     "data": {
      "text/html": [
       "<div>\n",
       "<style scoped>\n",
       "    .dataframe tbody tr th:only-of-type {\n",
       "        vertical-align: middle;\n",
       "    }\n",
       "\n",
       "    .dataframe tbody tr th {\n",
       "        vertical-align: top;\n",
       "    }\n",
       "\n",
       "    .dataframe thead th {\n",
       "        text-align: right;\n",
       "    }\n",
       "</style>\n",
       "<table border=\"1\" class=\"dataframe\">\n",
       "  <thead>\n",
       "    <tr style=\"text-align: right;\">\n",
       "      <th></th>\n",
       "      <th>artist.name</th>\n",
       "      <th>terms</th>\n",
       "    </tr>\n",
       "  </thead>\n",
       "  <tbody>\n",
       "    <tr>\n",
       "      <th>0</th>\n",
       "      <td>Casual</td>\n",
       "      <td>hip hop</td>\n",
       "    </tr>\n",
       "    <tr>\n",
       "      <th>1</th>\n",
       "      <td>The Box Tops</td>\n",
       "      <td>blue-eyed soul</td>\n",
       "    </tr>\n",
       "    <tr>\n",
       "      <th>2</th>\n",
       "      <td>Sonora Santanera</td>\n",
       "      <td>salsa</td>\n",
       "    </tr>\n",
       "    <tr>\n",
       "      <th>3</th>\n",
       "      <td>Adam Ant</td>\n",
       "      <td>pop rock</td>\n",
       "    </tr>\n",
       "    <tr>\n",
       "      <th>4</th>\n",
       "      <td>Gob</td>\n",
       "      <td>pop punk</td>\n",
       "    </tr>\n",
       "  </tbody>\n",
       "</table>\n",
       "</div>"
      ],
      "text/plain": [
       "        artist.name           terms\n",
       "0            Casual         hip hop\n",
       "1      The Box Tops  blue-eyed soul\n",
       "2  Sonora Santanera           salsa\n",
       "3          Adam Ant        pop rock\n",
       "4               Gob        pop punk"
      ]
     },
     "execution_count": 16,
     "metadata": {},
     "output_type": "execute_result"
    }
   ],
   "source": [
    "filepath = \"mb_music.csv\" #we use a file from MusicBrainz to gather artists names\n",
    "lyrics_df = pd.read_csv(filepath)\n",
    "useful_df = lyrics_df[['artist.name', 'terms']]\n",
    "useful_df.head()"
   ]
  },
  {
   "cell_type": "code",
   "execution_count": 18,
   "metadata": {},
   "outputs": [],
   "source": [
    "with open ('en_artists_from_musicbrainz', 'rb') as fp:\n",
    "    english_artist = pickle.load(fp)"
   ]
  },
  {
   "cell_type": "code",
   "execution_count": 19,
   "metadata": {},
   "outputs": [
    {
     "data": {
      "text/plain": [
       "365691"
      ]
     },
     "execution_count": 19,
     "metadata": {},
     "output_type": "execute_result"
    }
   ],
   "source": [
    "len(english_artist)"
   ]
  },
  {
   "cell_type": "code",
   "execution_count": 20,
   "metadata": {},
   "outputs": [],
   "source": [
    "def get_artist_genres(artist_name):\n",
    "    \"\"\" Fetch on Spotify the genres of the artist\"\"\"\n",
    "    query = sp.search(q='artist:' + artist_name, type='artist')\n",
    "    if len(query['artists']['items']) > 0:\n",
    "        genres = query['artists']['items'][0]['genres'] # list: [\"pop rock\", \"hard rock\", \"alternative rock\"...]\n",
    "        return genres\n",
    "    else:\n",
    "        #print(\"{} not on Spotify\".format(artist_name))\n",
    "        return []"
   ]
  },
  {
   "cell_type": "code",
   "execution_count": 21,
   "metadata": {},
   "outputs": [],
   "source": [
    "def refresh_token():\n",
    "    token = credentials.get_access_token()\n",
    "    sp = spotipy.Spotify(auth=token)"
   ]
  },
  {
   "cell_type": "code",
   "execution_count": null,
   "metadata": {},
   "outputs": [],
   "source": [
    "artist_genre = []\n",
    "artists = english_artist\n",
    "artists_with_error = []\n",
    "\n",
    "start = time.time()\n",
    "print(\"Initial number of artists: {}\".format(len(artists)))\n",
    "for i, artist in enumerate(artists):\n",
    "    if i % 500 == 0:\n",
    "        print(i)\n",
    "    if (time.time() - start)>= 3600:\n",
    "        start = time.time()\n",
    "        refresh_token()\n",
    "    try:\n",
    "        genres = get_artist_genres(artist)\n",
    "        if len(genres) > 0:\n",
    "            artist_genre.append([artist, genres])\n",
    "    except :\n",
    "        artists_with_error.append(artist)\n",
    "        #print(\"error for artist : \", artist)\n",
    "print(\"Number of artists with genres on Spotify: {}\".format(len(artist_genre)))"
   ]
  },
  {
   "cell_type": "code",
   "execution_count": null,
   "metadata": {},
   "outputs": [],
   "source": [
    "artist_genres_df = pd.DataFrame(artist_genre, columns = {'artist', 'genre'})\n",
    "artist_genres_df = artist_genres_df.drop_duplicates('artist')\n",
    "artist_genres_df.to_csv(\"artist_genre.csv\", sep=';')"
   ]
  },
  {
   "cell_type": "code",
   "execution_count": 22,
   "metadata": {},
   "outputs": [
    {
     "data": {
      "text/html": [
       "<div>\n",
       "<style scoped>\n",
       "    .dataframe tbody tr th:only-of-type {\n",
       "        vertical-align: middle;\n",
       "    }\n",
       "\n",
       "    .dataframe tbody tr th {\n",
       "        vertical-align: top;\n",
       "    }\n",
       "\n",
       "    .dataframe thead th {\n",
       "        text-align: right;\n",
       "    }\n",
       "</style>\n",
       "<table border=\"1\" class=\"dataframe\">\n",
       "  <thead>\n",
       "    <tr style=\"text-align: right;\">\n",
       "      <th></th>\n",
       "      <th>artist</th>\n",
       "      <th>genre</th>\n",
       "    </tr>\n",
       "  </thead>\n",
       "  <tbody>\n",
       "    <tr>\n",
       "      <th>0</th>\n",
       "      <td>Black Eyed Peas</td>\n",
       "      <td>['dance pop', 'pop', 'pop rap']</td>\n",
       "    </tr>\n",
       "    <tr>\n",
       "      <th>1</th>\n",
       "      <td>Jimmy Hughes</td>\n",
       "      <td>['southern soul']</td>\n",
       "    </tr>\n",
       "    <tr>\n",
       "      <th>2</th>\n",
       "      <td>Joy Division</td>\n",
       "      <td>['alternative rock', 'art rock', 'dance rock',...</td>\n",
       "    </tr>\n",
       "    <tr>\n",
       "      <th>3</th>\n",
       "      <td>Mint Condition</td>\n",
       "      <td>['dance pop', 'funk', 'hip pop', 'neo soul', '...</td>\n",
       "    </tr>\n",
       "    <tr>\n",
       "      <th>4</th>\n",
       "      <td>Plump DJs</td>\n",
       "      <td>['big beat', 'breakbeat', 'electronic', 'nu sk...</td>\n",
       "    </tr>\n",
       "  </tbody>\n",
       "</table>\n",
       "</div>"
      ],
      "text/plain": [
       "            artist                                              genre\n",
       "0  Black Eyed Peas                    ['dance pop', 'pop', 'pop rap']\n",
       "1     Jimmy Hughes                                  ['southern soul']\n",
       "2     Joy Division  ['alternative rock', 'art rock', 'dance rock',...\n",
       "3   Mint Condition  ['dance pop', 'funk', 'hip pop', 'neo soul', '...\n",
       "4        Plump DJs  ['big beat', 'breakbeat', 'electronic', 'nu sk..."
      ]
     },
     "execution_count": 22,
     "metadata": {},
     "output_type": "execute_result"
    }
   ],
   "source": [
    "MAIN_GENRES = {'indie', 'metal', 'electronic', 'hip hop', 'country', 'jazz', 'pop', 'rock'}\n",
    "\n",
    "artist_path = \"artist_genre.csv\"\n",
    "artist_genres_df = pd.read_csv(artist_path, sep = ';', usecols = [\"artist\", \"genre\"])\n",
    "artist_genres_df.head() # The genre field is a string and not a list"
   ]
  },
  {
   "cell_type": "code",
   "execution_count": 23,
   "metadata": {},
   "outputs": [],
   "source": [
    "def get_main_genre(genres, main_genres = MAIN_GENRES):\n",
    "    \"\"\" Count occurences of main genres terms in the genres string\"\"\"\n",
    "    main_genres_occ = [(g, len(re.findall(g, genres))) for g in main_genres if len(re.findall(g, genres)) > 0] # list: [(rock, 3), (pop, 1), (hard, 1)...]\n",
    "    \n",
    "    if len(main_genres_occ) > 0:\n",
    "        max_genre = sorted(main_genres_occ, key = lambda x: x[1], reverse = True)[0][0]\n",
    "        return max_genre\n",
    "    else:\n",
    "        return \"No main genre\""
   ]
  },
  {
   "cell_type": "code",
   "execution_count": null,
   "metadata": {},
   "outputs": [],
   "source": [
    "simple_genres = []\n",
    "for i, artist_row in artist_genres_df.iterrows():\n",
    "    genres = artist_row['genre']\n",
    "    main_genre = get_main_genre(genres)\n",
    "    simple_genres.append(main_genre)\n",
    "\n",
    "col_name = \"main genre\"\n",
    "if col_name in list(artist_genres_df.columns):\n",
    "    artist_genres_df.drop(col_name, inplace = True)\n",
    "artist_genres_df[col_name] = simple_genres\n",
    "artist_genres_df.head()"
   ]
  },
  {
   "cell_type": "code",
   "execution_count": null,
   "metadata": {},
   "outputs": [],
   "source": [
    "# Save the dataframe with main genre in a csv file\n",
    "useful_df = genres_df[[\"artist\", \"main genre\"]]\n",
    "useful_df.to_csv(\"artists_main_genre.csv\", index = False)"
   ]
  },
  {
   "cell_type": "code",
   "execution_count": 25,
   "metadata": {},
   "outputs": [],
   "source": [
    "artist_genres_df = pd.read_csv(\"artists_main_genre.csv\")"
   ]
  },
  {
   "cell_type": "code",
   "execution_count": 26,
   "metadata": {},
   "outputs": [
    {
     "name": "stdout",
     "output_type": "stream",
     "text": [
      "Number of artists: 1796\n",
      "Number of artists with main genre: 1796\n",
      "Ratio: 1.0\n"
     ]
    },
    {
     "data": {
      "image/png": "[encoded data removed]",
      "text/plain": [
       "<Figure size 432x288 with 1 Axes>"
      ]
     },
     "metadata": {},
     "output_type": "display_data"
    }
   ],
   "source": [
    "print(\"Number of artists: {}\".format(len(artist_genres_df)))\n",
    "genres_df = artist_genres_df[artist_genres_df[\"main genre\"] != \"No main genre\"]\n",
    "print(\"Number of artists with main genre: {}\".format(len(genres_df)))\n",
    "print(\"Ratio: {}\".format(len(genres_df) / len(artist_genres_df)))\n",
    "\n",
    "n, bins, patches = plt.hist(x = list(genres_df[\"main genre\"]), bins=np.arange(0,len(MAIN_GENRES) + 1), color='orange', align = 'left', alpha=0.7, rwidth=0.5)\n",
    "plt.grid(axis='y', alpha=0.75)\n",
    "plt.xlabel('Genres')\n",
    "plt.ylabel('Number of artists')\n",
    "plt.title('Number of artists with the specific genre')\n",
    "plt.show()"
   ]
  },
  {
   "cell_type": "markdown",
   "metadata": {},
   "source": [
    "We can see that we have enough songs for the rock genre. We will try to complete this dataset with other songs."
   ]
  },
  {
   "cell_type": "code",
   "execution_count": 27,
   "metadata": {},
   "outputs": [
    {
     "data": {
      "text/html": [
       "<div>\n",
       "<style scoped>\n",
       "    .dataframe tbody tr th:only-of-type {\n",
       "        vertical-align: middle;\n",
       "    }\n",
       "\n",
       "    .dataframe tbody tr th {\n",
       "        vertical-align: top;\n",
       "    }\n",
       "\n",
       "    .dataframe thead th {\n",
       "        text-align: right;\n",
       "    }\n",
       "</style>\n",
       "<table border=\"1\" class=\"dataframe\">\n",
       "  <thead>\n",
       "    <tr style=\"text-align: right;\">\n",
       "      <th></th>\n",
       "      <th>artist</th>\n",
       "      <th>main genre</th>\n",
       "    </tr>\n",
       "  </thead>\n",
       "  <tbody>\n",
       "    <tr>\n",
       "      <th>0</th>\n",
       "      <td>Black Eyed Peas</td>\n",
       "      <td>pop</td>\n",
       "    </tr>\n",
       "    <tr>\n",
       "      <th>1</th>\n",
       "      <td>Joy Division</td>\n",
       "      <td>rock</td>\n",
       "    </tr>\n",
       "    <tr>\n",
       "      <th>2</th>\n",
       "      <td>Mint Condition</td>\n",
       "      <td>pop</td>\n",
       "    </tr>\n",
       "    <tr>\n",
       "      <th>3</th>\n",
       "      <td>Plump DJs</td>\n",
       "      <td>electronic</td>\n",
       "    </tr>\n",
       "    <tr>\n",
       "      <th>4</th>\n",
       "      <td>Jope Ruonansuu</td>\n",
       "      <td>pop</td>\n",
       "    </tr>\n",
       "  </tbody>\n",
       "</table>\n",
       "</div>"
      ],
      "text/plain": [
       "            artist  main genre\n",
       "0  Black Eyed Peas         pop\n",
       "1     Joy Division        rock\n",
       "2   Mint Condition         pop\n",
       "3        Plump DJs  electronic\n",
       "4   Jope Ruonansuu         pop"
      ]
     },
     "execution_count": 27,
     "metadata": {},
     "output_type": "execute_result"
    }
   ],
   "source": [
    "english_df = pd.read_csv(\"lyrics_cleaned.csv\")\n",
    "artist_genre_df = pd.read_csv(\"artists_main_genre.csv\")\n",
    "artist_genre_df.head()"
   ]
  },
  {
   "cell_type": "code",
   "execution_count": 28,
   "metadata": {},
   "outputs": [
    {
     "data": {
      "image/png": "[encoded data removed]",
      "text/plain": [
       "<Figure size 432x288 with 1 Axes>"
      ]
     },
     "metadata": {},
     "output_type": "display_data"
    }
   ],
   "source": [
    "n, bins, patches = plt.hist(x = list(english_df[\"genre\"]), bins=np.arange(0,len(set(english_df[\"genre\"])) + 1), color='orange', align = 'left', alpha=0.7, rwidth=0.5)\n",
    "plt.grid(axis='y', alpha=0.75)\n",
    "plt.xlabel('Genres')\n",
    "plt.ylabel('Number of artists')\n",
    "plt.title('Number of artists with the specific genre')\n",
    "plt.xticks(rotation=60)\n",
    "plt.show()"
   ]
  },
  {
   "cell_type": "code",
   "execution_count": 29,
   "metadata": {},
   "outputs": [
    {
     "name": "stdout",
     "output_type": "stream",
     "text": [
      "Ratio of lyrics kept from main genres: 0.7912138650682717\n",
      "Artists to fetch number: 1461 , ratio: 0.81438127090301\n"
     ]
    },
    {
     "name": "stderr",
     "output_type": "stream",
     "text": [
      "/Users/emma/anaconda3/lib/python3.5/site-packages/ipykernel/__main__.py:5: SettingWithCopyWarning: \n",
      "A value is trying to be set on a copy of a slice from a DataFrame.\n",
      "Try using .loc[row_indexer,col_indexer] = value instead\n",
      "\n",
      "See the caveats in the documentation: http://pandas.pydata.org/pandas-docs/stable/indexing.html#indexing-view-versus-copy\n"
     ]
    }
   ],
   "source": [
    "main_lyrics_df = english_df[english_df['genre'].isin(MAIN_GENRES)]\n",
    "print(\"Ratio of lyrics kept from main genres: {}\".format(len(main_lyrics_df) / len(english_df)))\n",
    "\n",
    "# Give same format of artist names in both dataframes:\n",
    "main_lyrics_df['artist'] = main_lyrics_df['artist'].apply(lambda a: a.replace('-', ' ').lower()) # beyonce-knowles -> beyonce knowles\n",
    "artist_genre_df['artist'] = artist_genre_df['artist'].apply(lambda a: a.replace('-', ' ').lower())\n",
    "# Create dictionary of artist - genre\n",
    "artist_genre_dict = dict(zip(list(artist_genre_df['artist']), list(artist_genre_df['main genre'])))\n",
    "\n",
    "# Get the set of artists for which we don't already have the lyrics\n",
    "artists_to_fetch = set(artist_genre_df['artist']).difference(set(main_lyrics_df['artist']))\n",
    "print(\"Artists to fetch number: {} , ratio: {}\".format(len(artists_to_fetch), len(artists_to_fetch) / len(set(artist_genre_df['artist']))))"
   ]
  },
  {
   "cell_type": "markdown",
   "metadata": {},
   "source": [
    "We will try to scrap a first website (https://www.lyricsfreak.com) to complete the lyrics."
   ]
  },
  {
   "cell_type": "code",
   "execution_count": 31,
   "metadata": {},
   "outputs": [],
   "source": [
    "url_lyricsfreak = 'https://www.lyricsfreak.com'"
   ]
  },
  {
   "cell_type": "code",
   "execution_count": 32,
   "metadata": {},
   "outputs": [],
   "source": [
    "def get_lyrics_from_link(url):\n",
    "    response = requests.get(url).content\n",
    "    soup_lyrics = BeautifulSoup(response, \"lxml\")\n",
    "    # Get lyrics from the link\n",
    "    lyrics_html = soup_lyrics.find_all('div', class_= \"dn\") # found by inspecting the url\n",
    "    try:\n",
    "        lyrics = str(lyrics_html).split('content_h\">')[1].split('</div>')[0]\n",
    "    except IndexError:\n",
    "        # Some lyrics have an url but acces is restricted\n",
    "        print(\"Lyrics restricted for URL {}\".format(url))\n",
    "        return ''\n",
    "    \"\"\"Do all the cleaning on the lyrics here: maybe keep if only english ?\"\"\"\n",
    "    # Replace line jump (<br/>) with puctuation .\n",
    "    lyrics_cleaned = lyrics.replace('<br/>', '. ')\n",
    "    return lyrics_cleaned\n",
    "\n",
    "\n",
    "# Given an artist name, get all his songs and lyrics available on lyricsfreak\n",
    "def get_songs_from_artist(artist_name, genre):\n",
    "    # Convert artist name to right format for the url\n",
    "    artist = artist_name.lower()\n",
    "    first_char = artist[0]\n",
    "    artist_url = artist.replace(' ', '+') # Name with spaces\n",
    "    url = url_lyricsfreak + '/' + first_char + '/' + artist_url + '/'\n",
    "    # Get HTML info on URL\n",
    "    response = requests.get(url).content\n",
    "    soup = BeautifulSoup(response, \"lxml\")\n",
    "    # Get all songs from that artist on the website\n",
    "    songs_html = soup.find_all(\"td\", \"colfirst\") # parameters found by inspecting the url\n",
    "    \n",
    "    songs_name_link = []\n",
    "    for song in songs_html:\n",
    "        song = str(song)\n",
    "        if artist_url + '/' in song:\n",
    "            link = song.split(artist_url + '/')[1].split('\"')[0]\n",
    "            song_name = song.split('title=\"')[1].split(' Lyrics\"')[0]\n",
    "            # Fetch the lyrics for this song\n",
    "            url_lyrics = url + link\n",
    "            lyrics = get_lyrics_from_link(url_lyrics)\n",
    "            if lyrics != '':\n",
    "                # Get same format as the rows of the main_lyrics_df\n",
    "                year = None\n",
    "                language = None\n",
    "                songs_name_link.append([song_name, year, artist_name, genre, lyrics, language])\n",
    "    return songs_name_link"
   ]
  },
  {
   "cell_type": "code",
   "execution_count": 33,
   "metadata": {},
   "outputs": [
    {
     "name": "stdout",
     "output_type": "stream",
     "text": [
      "Northlane - Number of lyrics found: 0\n",
      "Mac Miller - Number of lyrics found: 0\n"
     ]
    }
   ],
   "source": [
    "test_artists = ['Northlane', 'Mac Miller']\n",
    "test_dict = {test_artists[0]: 'metal', test_artists[1]: 'hip hop'}\n",
    "lyrics_test = []\n",
    "\n",
    "# Create empty dataframe to store results\n",
    "df = pd.DataFrame(columns = list(main_lyrics_df.columns))\n",
    "for artist in test_artists:\n",
    "    genre = test_dict[artist]\n",
    "    artist_lyrics = get_songs_from_artist(artist, genre)\n",
    "    print(\"{} - Number of lyrics found: {}\".format(artist, len(artist_lyrics)))\n",
    "    lyrics_test.append(artist_lyrics)"
   ]
  },
  {
   "cell_type": "code",
   "execution_count": 34,
   "metadata": {},
   "outputs": [
    {
     "name": "stdout",
     "output_type": "stream",
     "text": [
      "{'hip hop': 23035, 'indie': 2975, 'metal': 21532, 'electronic': 7016, 'r&b': 3348, 'rock': 100565, 'not available': 17579, 'country': 14252, 'pop': 34807, 'jazz': 7351, 'folk': 1790, 'other': 3989}\n",
      "{'hip hop', 'indie', 'metal', 'rock', 'country', 'electronic', 'pop', 'jazz'}\n"
     ]
    }
   ],
   "source": [
    "songs_per_genre = {}\n",
    "genres = [g.lower() for g in genres]\n",
    "for genre in genres:\n",
    "    if genre == \"hip-hop\":\n",
    "        songs_per_genre[\"hip hop\"] = len(english_df[english_df[\"genre\"] == genre])\n",
    "    else :\n",
    "        songs_per_genre[genre] = len(english_df[english_df[\"genre\"] == genre])\n",
    "print(songs_per_genre)\n",
    "print(MAIN_GENRES)"
   ]
  },
  {
   "cell_type": "code",
   "execution_count": 36,
   "metadata": {},
   "outputs": [
    {
     "name": "stdout",
     "output_type": "stream",
     "text": [
      "Total length of artists to fetch: 1461\n",
      "Length of artists to fetch : 938\n"
     ]
    }
   ],
   "source": [
    "artists_to_fetch = set(artist_genre_df['artist']).difference(set(main_lyrics_df['artist']))\n",
    "print(\"Total length of artists to fetch: {}\".format(len(artists_to_fetch)))\n",
    "\n",
    "genres_to_fetch = [\"metal\", \"jazz\", \"country\",\"hip hop\", \"pop\"]\n",
    "\n",
    "artists_to_fetch = [a for a in artists_to_fetch if artist_genre_dict[a] in genres_to_fetch]\n",
    "print(\"Length of artists to fetch : {}\".format(len(artists_to_fetch)))"
   ]
  },
  {
   "cell_type": "markdown",
   "metadata": {},
   "source": [
    "Let's fetch all the songs for all the artists for which we don't have their lyrics in the english_df dataframe. In order to get approximately the same number of songs for each genre, we will set a threshold (e.g. 50'000 songs). Once we have fetched online this threshold from a particular genre we make sure not to fetch any more songs from following artists of this genre"
   ]
  },
  {
   "cell_type": "code",
   "execution_count": null,
   "metadata": {},
   "outputs": [],
   "source": [
    "songs_per_genre_copy = songs_per_genre.copy()\n",
    "THRESHOLD = 50000\n",
    "# Create empty dataframe to store results\n",
    "new_lyrics_df = pd.DataFrame(columns = list(main_lyrics_df.columns))\n",
    "\n",
    "for i, artist in enumerate(artists_to_fetch):\n",
    "    if i % 20 == 19:\n",
    "        print(\"Percentage Completion: {}% , Lyrics Obtained: {}\".format(100*i / len(list(artists_to_fetch)), len(new_lyrics_df)))\n",
    "        secs_sleep = 60\n",
    "        print(\"Now sleeping {} seconds\".format(secs_sleep))\n",
    "        time.sleep(secs_sleep)\n",
    "    genre = artist_genre_dict[artist]\n",
    "    nbr_songs_of_genre = songs_per_genre_copy[genre]\n",
    "    if nbr_songs_of_genre < THRESHOLD:\n",
    "        artist_lyrics = get_songs_from_artist(artist, genre)\n",
    "        if len(artist_lyrics) == 0:\n",
    "            print(\"Artist {} not found on lyricsfreak\".format(artist))\n",
    "        else:\n",
    "            list_to_df = pd.DataFrame(artist_lyrics, columns = list(main_lyrics_df.columns))\n",
    "            new_lyrics_df = new_lyrics_df.append(list_to_df)\n",
    "            songs_per_genre_copy[genre] += len(artist_lyrics)"
   ]
  },
  {
   "cell_type": "code",
   "execution_count": null,
   "metadata": {},
   "outputs": [],
   "source": [
    "new_lyrics_df.to_csv(\"kaggleDataset/lyrics_augmented.csv\", index = False)"
   ]
  },
  {
   "cell_type": "markdown",
   "metadata": {},
   "source": [
    "We will now try to scrap another website, which is providing the genre classification: https://www.lyrics.com"
   ]
  },
  {
   "cell_type": "code",
   "execution_count": 37,
   "metadata": {},
   "outputs": [],
   "source": [
    "url = 'https://www.lyrics.com/genres.php?genre='\n",
    "genres = ['Pop', 'Hip%20Hop','Folk,%20World,%20__%20Country', 'Jazz', 'Rock']"
   ]
  },
  {
   "cell_type": "code",
   "execution_count": 38,
   "metadata": {},
   "outputs": [],
   "source": [
    "def get_artist(div):\n",
    "    return div.find_all('p', class_ = \"lyric-meta-album-artist\")[0].getText()"
   ]
  },
  {
   "cell_type": "code",
   "execution_count": 39,
   "metadata": {},
   "outputs": [],
   "source": [
    "def get_lyrics_from_url(lyrics_url):\n",
    "    r = requests.get('https://www.lyrics.com/' + lyrics_url).content\n",
    "    soup = BeautifulSoup(r, \"lxml\")\n",
    "    try : \n",
    "        l = soup.find_all('pre')[0].getText()\n",
    "    except : \n",
    "        l = 'NaN'\n",
    "    return l"
   ]
  },
  {
   "cell_type": "code",
   "execution_count": 40,
   "metadata": {},
   "outputs": [],
   "source": [
    "def get_title_url(div):\n",
    "    data = div.find_all('p', class_= \"lyric-meta-title\")[0]\n",
    "    lyrics_url = data.find_all('a', href = True)[0]['href']\n",
    "    title = data.getText()\n",
    "    return title, lyrics_url"
   ]
  },
  {
   "cell_type": "code",
   "execution_count": 41,
   "metadata": {},
   "outputs": [],
   "source": [
    "def get_artist_from_page(df, genre, nb):\n",
    "    page_url = url + genre + '&p=' + str(nb)\n",
    "    resp = requests.get(page_url).content\n",
    "    soup = BeautifulSoup(resp, \"lxml\")\n",
    "    content = soup.find_all('div', class_= \"lyric-meta col-sm-6 col-xs-6\")\n",
    "    for c in content:\n",
    "        t, l = get_title_url(c)\n",
    "        df.loc[len(df)] = [t, get_artist(c), genre, l]\n",
    "    return df"
   ]
  },
  {
   "cell_type": "code",
   "execution_count": null,
   "metadata": {},
   "outputs": [],
   "source": [
    "MIN_PAGES = 3000\n",
    "MAX_PAGES = 4681\n",
    "lyrics_com_df = pd.DataFrame(columns=['title','artist', 'genre', 'lyrics_url'])"
   ]
  },
  {
   "cell_type": "code",
   "execution_count": null,
   "metadata": {},
   "outputs": [],
   "source": [
    "for genre in genres:\n",
    "    for page in range(MIN_PAGES, MAX_PAGES):\n",
    "        try :\n",
    "            get_artist_from_page(lyrics_com_df, genre, page)\n",
    "            print('finished genre : ', genre, ' page : ', page)\n",
    "        except :\n",
    "            time.sleep(10)\n",
    "            get_artist_from_page(lyrics_com_df, genre, page)"
   ]
  },
  {
   "cell_type": "code",
   "execution_count": null,
   "metadata": {},
   "outputs": [],
   "source": [
    "lyrics_com_df = lyrics_com_df.drop_duplicates('title')\n",
    "lyrics_com_df.head()"
   ]
  },
  {
   "cell_type": "code",
   "execution_count": null,
   "metadata": {},
   "outputs": [],
   "source": [
    "def get_lyrics(lyrics_com_url):\n",
    "    l = ''\n",
    "    while l == '':\n",
    "        try:\n",
    "            l = get_lyrics_from_url(lyrics_com_url)\n",
    "        except:\n",
    "            print(\"Slept for : \", lyrics_com_url)\n",
    "            time.sleep(5)\n",
    "            continue\n",
    "    return l"
   ]
  },
  {
   "cell_type": "code",
   "execution_count": null,
   "metadata": {},
   "outputs": [],
   "source": [
    "lyrics_com_df['lyrics'] = lyrics_com_df['lyrics_url'].map(lambda x : get_lyrics(x))"
   ]
  },
  {
   "cell_type": "code",
   "execution_count": null,
   "metadata": {},
   "outputs": [],
   "source": [
    "lyrics_com_df = lyrics_com_df.dropna(axis = 1)\n",
    "lyrics_com_df = lyrics_com_df.drop_duplicates('lyrics')  \n",
    "lyrics_com_df.head(10)"
   ]
  },
  {
   "cell_type": "code",
   "execution_count": null,
   "metadata": {},
   "outputs": [],
   "source": [
    "genre_dict = {'Pop': 'pop', 'Hip%20Hop' : 'hip hop','Folk,%20World,%20__%20Country': 'country', 'Jazz':'jazz', 'Rock':'rock'}"
   ]
  },
  {
   "cell_type": "code",
   "execution_count": null,
   "metadata": {},
   "outputs": [],
   "source": [
    "new_lyrics_df = lyrics_com_df.drop('lyrics_url', axis = 1)\n",
    "new_lyrics_df['genre'] = new_lyrics_df['genre'].map(lambda x : genre_dict[x])\n",
    "new_lyrics_df.to_csv(\"lyrics_com.csv\", index = False)"
   ]
  },
  {
   "cell_type": "markdown",
   "metadata": {},
   "source": [
    "Merge all the different files gathered"
   ]
  },
  {
   "cell_type": "code",
   "execution_count": null,
   "metadata": {},
   "outputs": [],
   "source": [
    "final_df = pd.concat([oli_df, pd.read_csv(emma_files[0]), pd.read_csv(emma_files[1]), \n",
    "                      pd.read_csv(emma_files[2]), pd.read_csv(emma_files[3]),\n",
    "                      pd.read_csv(emma_files[4]),pd.read_csv(emma_files[5]),pd.read_csv(emma_files[6]),\n",
    "                     pd.read_csv('lyrics_jazz.csv'), pd.read_csv('lyrics_metal.csv')], ignore_index=True)"
   ]
  },
  {
   "cell_type": "code",
   "execution_count": null,
   "metadata": {},
   "outputs": [],
   "source": [
    "final_df = final_df.drop_duplicates()\n",
    "final_df = final_df.dropna(subset = ['lyrics'])"
   ]
  },
  {
   "cell_type": "code",
   "execution_count": null,
   "metadata": {},
   "outputs": [],
   "source": [
    "def adapt_genre(x):\n",
    "    if x == 'hip-hop':\n",
    "        return 'hip hop'\n",
    "    elif x =='folk':\n",
    "        return 'country'\n",
    "    else:\n",
    "        return x\n",
    "\n",
    "final_df['genre'] = final_df['genre'].map(lambda x: adapt_genre(x))"
   ]
  },
  {
   "cell_type": "code",
   "execution_count": null,
   "metadata": {},
   "outputs": [],
   "source": [
    "final_df['genre'].value_counts()"
   ]
  },
  {
   "cell_type": "code",
   "execution_count": null,
   "metadata": {},
   "outputs": [],
   "source": [
    "def clean_name(x):\n",
    "    try:\n",
    "        return x.lower().replace(' ', '-')\n",
    "    except:\n",
    "        return x"
   ]
  },
  {
   "cell_type": "code",
   "execution_count": null,
   "metadata": {},
   "outputs": [],
   "source": [
    "final_df['title'] = final_df['title'].map(lambda x : clean_name(x))\n",
    "final_df['artist'] = final_df['artist'].map(lambda x : clean_name(x))"
   ]
  },
  {
   "cell_type": "code",
   "execution_count": null,
   "metadata": {},
   "outputs": [],
   "source": [
    "final_df['lang'] = final_df['lyrics'].map(lambda l : language_of_lyrics(l))"
   ]
  },
  {
   "cell_type": "code",
   "execution_count": null,
   "metadata": {},
   "outputs": [],
   "source": [
    "en_df = final_df[final_df['lang'] == 'en']\n",
    "en_df = en_df.drop(['lang'], axis = 1)\n",
    "print(len(en_df))\n",
    "en_df.head()"
   ]
  },
  {
   "cell_type": "code",
   "execution_count": null,
   "metadata": {},
   "outputs": [],
   "source": [
    "en_df.to_csv(\"full_en_lyrics.csv\", index= False) # LYRICS FINAL du 7 novembre ??"
   ]
  },
  {
   "cell_type": "markdown",
   "metadata": {},
   "source": [
    "[Go to top](#top)"
   ]
  },
  {
   "cell_type": "markdown",
   "metadata": {},
   "source": [
    "<a id=\"cleaning\"></a>"
   ]
  },
  {
   "cell_type": "markdown",
   "metadata": {},
   "source": [
    "## Data Cleaning"
   ]
  },
  {
   "cell_type": "code",
   "execution_count": 42,
   "metadata": {},
   "outputs": [
    {
     "name": "stdout",
     "output_type": "stream",
     "text": [
      "317015\n"
     ]
    },
    {
     "data": {
      "text/html": [
       "<div>\n",
       "<style scoped>\n",
       "    .dataframe tbody tr th:only-of-type {\n",
       "        vertical-align: middle;\n",
       "    }\n",
       "\n",
       "    .dataframe tbody tr th {\n",
       "        vertical-align: top;\n",
       "    }\n",
       "\n",
       "    .dataframe thead th {\n",
       "        text-align: right;\n",
       "    }\n",
       "</style>\n",
       "<table border=\"1\" class=\"dataframe\">\n",
       "  <thead>\n",
       "    <tr style=\"text-align: right;\">\n",
       "      <th></th>\n",
       "      <th>artist</th>\n",
       "      <th>genre</th>\n",
       "      <th>lyrics</th>\n",
       "      <th>song</th>\n",
       "      <th>year</th>\n",
       "    </tr>\n",
       "  </thead>\n",
       "  <tbody>\n",
       "    <tr>\n",
       "      <th>0</th>\n",
       "      <td>beyonce-knowles</td>\n",
       "      <td>pop</td>\n",
       "      <td>Oh baby, how you doing?\\r\\r\\r\\r\\r\\nYou know I'...</td>\n",
       "      <td>ego-remix</td>\n",
       "      <td>2009.0</td>\n",
       "    </tr>\n",
       "    <tr>\n",
       "      <th>1</th>\n",
       "      <td>beyonce-knowles</td>\n",
       "      <td>pop</td>\n",
       "      <td>playin' everything so easy,\\r\\r\\r\\r\\r\\nit's li...</td>\n",
       "      <td>then-tell-me</td>\n",
       "      <td>2009.0</td>\n",
       "    </tr>\n",
       "    <tr>\n",
       "      <th>2</th>\n",
       "      <td>beyonce-knowles</td>\n",
       "      <td>pop</td>\n",
       "      <td>If you search\\r\\r\\r\\r\\r\\nFor tenderness\\r\\r\\r\\...</td>\n",
       "      <td>honesty</td>\n",
       "      <td>2009.0</td>\n",
       "    </tr>\n",
       "    <tr>\n",
       "      <th>3</th>\n",
       "      <td>beyonce-knowles</td>\n",
       "      <td>pop</td>\n",
       "      <td>Oh oh oh I, oh oh oh I\\r\\r\\r\\r\\r\\n[Verse 1:]\\r...</td>\n",
       "      <td>you-are-my-rock</td>\n",
       "      <td>2009.0</td>\n",
       "    </tr>\n",
       "    <tr>\n",
       "      <th>4</th>\n",
       "      <td>beyonce-knowles</td>\n",
       "      <td>pop</td>\n",
       "      <td>Party the people, the people the party it's po...</td>\n",
       "      <td>black-culture</td>\n",
       "      <td>2009.0</td>\n",
       "    </tr>\n",
       "  </tbody>\n",
       "</table>\n",
       "</div>"
      ],
      "text/plain": [
       "            artist genre                                             lyrics  \\\n",
       "0  beyonce-knowles   pop  Oh baby, how you doing?\\r\\r\\r\\r\\r\\nYou know I'...   \n",
       "1  beyonce-knowles   pop  playin' everything so easy,\\r\\r\\r\\r\\r\\nit's li...   \n",
       "2  beyonce-knowles   pop  If you search\\r\\r\\r\\r\\r\\nFor tenderness\\r\\r\\r\\...   \n",
       "3  beyonce-knowles   pop  Oh oh oh I, oh oh oh I\\r\\r\\r\\r\\r\\n[Verse 1:]\\r...   \n",
       "4  beyonce-knowles   pop  Party the people, the people the party it's po...   \n",
       "\n",
       "              song    year  \n",
       "0        ego-remix  2009.0  \n",
       "1     then-tell-me  2009.0  \n",
       "2          honesty  2009.0  \n",
       "3  you-are-my-rock  2009.0  \n",
       "4    black-culture  2009.0  "
      ]
     },
     "execution_count": 42,
     "metadata": {},
     "output_type": "execute_result"
    }
   ],
   "source": [
    "filepath = \"lyrics_final.csv\"\n",
    "lyrics_df = pd.read_csv(filepath)\n",
    "lyrics_df = lyrics_df.drop(['language'], axis = 1)\n",
    "print(len(lyrics_df))\n",
    "lyrics_df.head()"
   ]
  },
  {
   "cell_type": "markdown",
   "metadata": {},
   "source": [
    "--> Remove [...], {...} and (....) and x(digit)\n",
    "\n",
    "This information gives structure for the singer but not usefull for lyrics. This is [Chorus], choir in parentheses, x2 etc. <br>\n",
    "To test regex expressions : https://regex101.com"
   ]
  },
  {
   "cell_type": "code",
   "execution_count": 44,
   "metadata": {},
   "outputs": [],
   "source": [
    "regex_bracket = re.compile(\"\\[(.*?)\\]\")\n",
    "regex_parentheses = re.compile(\"\\((.*?)\\)\")\n",
    "regex_curly_bracket = re.compile(\"\\{(.*?)\\}\")\n",
    "regex_timesx = re.compile(\"x[0-9]\")\n",
    "\n",
    "def split_words_with_upper(l):\n",
    "    words = l.split(' ')\n",
    "    for j, w in enumerate(words):\n",
    "        idx = -1\n",
    "        if re.match('[a-z]+[A-Z]+', w):\n",
    "            for i, c in enumerate(w):\n",
    "                if c.isupper():\n",
    "                    idx = i\n",
    "        if idx != -1:\n",
    "            words[j] = w[:idx] + ' ' + w[idx:]\n",
    "    return ' '.join(words)\n",
    "\n",
    "\n",
    "def clean_structure_words(l):\n",
    "    res= regex_bracket.sub('', l)\n",
    "    res = regex_parentheses.sub('', res)\n",
    "    res = regex_curly_bracket.sub('', res)\n",
    "    res = regex_timesx.sub('', res)\n",
    "    res = split_words_with_upper(res)\n",
    "    res = res.lower()\n",
    "    return res"
   ]
  },
  {
   "cell_type": "code",
   "execution_count": null,
   "metadata": {},
   "outputs": [],
   "source": [
    "lyrics_df['lyrics'] = lyrics_df['lyrics'].apply(lambda x : clean_structure_words(x))\n",
    "lyrics_df.tail()"
   ]
  },
  {
   "cell_type": "markdown",
   "metadata": {},
   "source": [
    "--> Remove . , ! ? ... ---\n",
    "- We want to keep the * as this represents some swear words in english\n",
    "- We want to keep the ' as this is part of many words in english, especially when words are cropped, ie 'Cause \n",
    "- Otherwise punctuation is not meaningful"
   ]
  },
  {
   "cell_type": "code",
   "execution_count": null,
   "metadata": {},
   "outputs": [],
   "source": [
    "chars_to_keep = \"0123456789abcdefghijklmnopqrstuvwxyzABCDEFGHIJKLMNOPQRSTUVWXYZ* \\n\"\n",
    "\n",
    "def clean_punctuation(l):\n",
    "    #res = regex_punct.sub('', l)\n",
    "    res = re.sub(' +', ' ', l)#res)\n",
    "    res = res.replace(\"'\", ' ') # replace the quotes with a space.\n",
    "    res = ''.join(char for char in res if char in chars_to_keep)\n",
    "    return res"
   ]
  },
  {
   "cell_type": "code",
   "execution_count": null,
   "metadata": {},
   "outputs": [],
   "source": [
    "lyrics_df['lyrics'] = lyrics_df['lyrics'].apply(lambda x : clean_punctuation(x))\n",
    "lyrics_df.tail()"
   ]
  },
  {
   "cell_type": "markdown",
   "metadata": {},
   "source": [
    "[Go to top](#top)"
   ]
  },
  {
   "cell_type": "markdown",
   "metadata": {},
   "source": [
    "<a id=\"process\"></a>"
   ]
  },
  {
   "cell_type": "markdown",
   "metadata": {},
   "source": [
    "## Data Preprocessing\n",
    "\n",
    "Create FastText vectors : https://fasttext.cc/docs/en/unsupervised-tutorial.html"
   ]
  },
  {
   "cell_type": "code",
   "execution_count": null,
   "metadata": {},
   "outputs": [],
   "source": [
    "# First create a txt file with the lyrics\n",
    "f = open(\"lyrics.txt\", \"w+\")\n",
    "for i, r in lyrics_df.iterrows():\n",
    "    f.write(r['lyrics'])\n",
    "    \n",
    "f.close()"
   ]
  },
  {
   "cell_type": "code",
   "execution_count": null,
   "metadata": {},
   "outputs": [],
   "source": [
    "# Generate embeddings\n",
    "! ./fasttext skipgram -input lyrics.txt -output model_full_lyrics"
   ]
  },
  {
   "cell_type": "code",
   "execution_count": null,
   "metadata": {},
   "outputs": [],
   "source": [
    "file_vec = 'model_lyrics3.vec'\n",
    "file_bin = 'model_lyrics3.bin'"
   ]
  },
  {
   "cell_type": "code",
   "execution_count": null,
   "metadata": {},
   "outputs": [],
   "source": [
    "# Load embeddings\n",
    "def load_embeddings(file_name):\n",
    "    with codecs.open(file_name, 'r', 'utf-8') as f_in:\n",
    "        lines = f_in.readlines()\n",
    "        lines = lines[1:]\n",
    "        vocabulary, wv = zip(*[line.strip().split(' ', 1) for line in lines])\n",
    "    wv = np.loadtxt(wv)\n",
    "    return wv, vocabulary"
   ]
  },
  {
   "cell_type": "code",
   "execution_count": null,
   "metadata": {},
   "outputs": [],
   "source": [
    "word_embeddings, vocabulary = load_embeddings(file_vec)\n",
    "vocabulary = list(vocabulary)"
   ]
  },
  {
   "cell_type": "code",
   "execution_count": null,
   "metadata": {},
   "outputs": [],
   "source": [
    "#If necessary\n",
    "def get_embedding_for_missing_word(w, file_bin = file_bin):\n",
    "    #data = ! echo $w | ./fasttext print-word-vectors model_lyrics.bin #emma\n",
    "    data = ! echo $w | ./fasttext print-word-vectors $file_bin #oli\n",
    "    emb = np.zeros(100)\n",
    "    for i, x in enumerate(data[0].split( )[1:]):\n",
    "        try:\n",
    "            emb[i] = float(x)\n",
    "        except ValueError:\n",
    "            print(data[0])\n",
    "    return emb"
   ]
  },
  {
   "cell_type": "code",
   "execution_count": null,
   "metadata": {},
   "outputs": [],
   "source": [
    "get_embedding_for_missing_word(\"we re\")"
   ]
  },
  {
   "cell_type": "markdown",
   "metadata": {},
   "source": [
    "--> Create column with indicator of last word of line"
   ]
  },
  {
   "cell_type": "code",
   "execution_count": 48,
   "metadata": {},
   "outputs": [],
   "source": [
    "def generate_embedding_for_lyrics(l):\n",
    "    sentences = l.split('\\n')\n",
    "    embedding = []\n",
    "    for s in sentences:\n",
    "        words = s.split(' ')\n",
    "        for i, w in enumerate(words):\n",
    "            if len(w)>0:\n",
    "                try : \n",
    "                    idx = vocabulary.index(w)\n",
    "                    vector = word_embeddings[idx]\n",
    "                except ValueError : \n",
    "                    #print(\"Word not found :\", repr(w))\n",
    "                    vector = get_embedding_for_missing_word(w)\n",
    "                if i == (len(words)-1) :\n",
    "                    vector = np.append(vector, 1)\n",
    "                else :\n",
    "                    vector = np.append(vector, 0)\n",
    "                vector = np.append(w, vector)\n",
    "                embedding.append(vector)\n",
    "                \n",
    "    return embedding"
   ]
  },
  {
   "cell_type": "code",
   "execution_count": null,
   "metadata": {},
   "outputs": [],
   "source": [
    "generate_embedding_for_lyrics(\"oh baby how you doing\\nyou know im gonna cut right to the chase\")"
   ]
  },
  {
   "cell_type": "markdown",
   "metadata": {},
   "source": [
    "--> Create column with type of word (noum, verb, etc)"
   ]
  },
  {
   "cell_type": "code",
   "execution_count": null,
   "metadata": {},
   "outputs": [],
   "source": [
    "en_nlp = spacy.load('en')"
   ]
  },
  {
   "cell_type": "markdown",
   "metadata": {},
   "source": [
    "ADJ: adjective ADP: adposition ADV: adverb AUX: auxiliary verb CONJ: coordinating conjunction DET: determiner INTJ: interjection NOUN: noun NUM: numeral PART: particle PRON: pronoun PROPN: proper noun PUNCT: punctuation SCONJ: subordinating conjunction SYM: symbol VERB: verb X: other"
   ]
  },
  {
   "cell_type": "code",
   "execution_count": 49,
   "metadata": {},
   "outputs": [],
   "source": [
    "def generate_pos_for_lyrics(l):\n",
    "    doc = en_nlp(l)\n",
    "    embedding = []\n",
    "    for i in range(len(doc)):\n",
    "        print(doc[i], doc[i].pos_)\n",
    "        type_ = doc[i].pos_\n",
    "        if type_ != 'SPACE' and type_ != 'PART':\n",
    "            embedding.append(type_)\n",
    "    return embedding"
   ]
  },
  {
   "cell_type": "code",
   "execution_count": 50,
   "metadata": {},
   "outputs": [],
   "source": [
    "def generate_pos_for_word(w):\n",
    "    doc = en_nlp(w)\n",
    "    return doc[0].pos_"
   ]
  },
  {
   "cell_type": "code",
   "execution_count": 51,
   "metadata": {},
   "outputs": [],
   "source": [
    "pos_to_idx = {'ADJ': 0, 'ADP': 1, 'ADV':2,'AUX': 3,'CONJ': 4,'CCONJ': 5,'DET': 6, 'INTJ': 7, 'NOUN': 8,\n",
    "              'NUM': 9, 'PART': 10,'PRON':11, 'PROPN': 12, 'PUNCT': 13, 'SCONJ': 14, 'SYM': 15, \n",
    "              'VERB': 16, 'X': 17}"
   ]
  },
  {
   "cell_type": "code",
   "execution_count": null,
   "metadata": {},
   "outputs": [],
   "source": [
    "def merge_embedding_pos(l):\n",
    "    embedding = generate_embedding_for_lyrics(l)\n",
    "    for i in range(len(embedding)):\n",
    "        w = embedding[i][0]\n",
    "        if w != '\\n':\n",
    "            pos = generate_pos_for_word(str(w))\n",
    "            bin_vector = np.zeros(18)\n",
    "            bin_vector[pos_to_idx[pos]] = 1\n",
    "            embedding[i] = np.append(embedding[i], bin_vector)\n",
    "    return embedding"
   ]
  },
  {
   "cell_type": "markdown",
   "metadata": {},
   "source": [
    "--> Create column with Entity Recognition"
   ]
  },
  {
   "cell_type": "code",
   "execution_count": null,
   "metadata": {},
   "outputs": [],
   "source": [
    "nlp = spacy.load('en_core_web_sm')"
   ]
  },
  {
   "cell_type": "markdown",
   "metadata": {},
   "source": [
    "Entity types : <br>\n",
    "PERSON\tPeople, including fictional.<br>\n",
    "NORP\tNationalities or religious or political groups.<br>\n",
    "FAC\tBuildings, airports, highways, bridges, etc.<br>\n",
    "ORG\tCompanies, agencies, institutions, etc.<br>\n",
    "GPE\tCountries, cities, states.<br>\n",
    "LOC\tNon-GPE locations, mountain ranges, bodies of water.<br>\n",
    "PRODUCT\tObjects, vehicles, foods, etc. (Not services.)<br>\n",
    "EVENT\tNamed hurricanes, battles, wars, sports events, etc.<br>\n",
    "WORK_OF_ART\tTitles of books, songs, etc.<br>\n",
    "LAW\tNamed documents made into laws.<br>\n",
    "LANGUAGE\tAny named language.<br>\n",
    "DATE\tAbsolute or relative dates or periods.<br>\n",
    "TIME\tTimes smaller than a day.<br>\n",
    "PERCENT\tPercentage, including \"%\".<br>\n",
    "MONEY\tMonetary values, including unit.<br>\n",
    "QUANTITY\tMeasurements, as of weight or distance.<br>\n",
    "ORDINAL\t\"first\", \"second\", etc.<br>\n",
    "CARDINAL\tNumerals that do not fall under another type.<br>"
   ]
  },
  {
   "cell_type": "code",
   "execution_count": null,
   "metadata": {},
   "outputs": [],
   "source": [
    "doc = nlp(lyrics_df.loc[24]['lyrics'].replace('\\n', '').lower())\n",
    "for ent in doc.ents:\n",
    "    print(ent.text, ent.label_)"
   ]
  },
  {
   "cell_type": "code",
   "execution_count": null,
   "metadata": {},
   "outputs": [],
   "source": [
    "def find_sub_list(sl,l):\n",
    "    sll=len(sl)\n",
    "    for ind in (i for i,e in enumerate(l) if e==sl[0]):\n",
    "        if l[ind:ind+sll]==sl:\n",
    "            return ind,ind+sll-1"
   ]
  },
  {
   "cell_type": "code",
   "execution_count": null,
   "metadata": {},
   "outputs": [],
   "source": [
    "def get_entity_for_lyrics(l):\n",
    "    l = l.replace('\\n', ' ').lower()\n",
    "    doc = nlp(l)\n",
    "    l_list = l.split(' ')\n",
    "    curr_i = 0\n",
    "    result = np.empty(shape=len(l_list), dtype=object)\n",
    "    for ent in doc.ents:\n",
    "        if ent.text.replace(' ', '') != '':\n",
    "            ent_list = ent.text.split(' ')\n",
    "            try:\n",
    "                s, e = find_sub_list(ent_list, l_list[curr_i:])\n",
    "                s += curr_i\n",
    "                e += curr_i\n",
    "                for i in range(s, e+1):\n",
    "                    result[i] = ent.label_\n",
    "                curr_i = e\n",
    "            except : \n",
    "                print(ent_list)\n",
    "                print(l_list[curr_i:])\n",
    "    return result"
   ]
  },
  {
   "cell_type": "code",
   "execution_count": null,
   "metadata": {},
   "outputs": [],
   "source": [
    "ent_to_idx = {'PERSON' : 0,\n",
    "'NORP': 1,\n",
    "'FAC' : 2,\n",
    "'ORG' : 3,\n",
    "'GPE' : 4,\n",
    "'LOC' : 5,\n",
    "'PRODUCT' : 6,\n",
    "'EVENT' : 7,\n",
    "'WORK_OF_ART' : 8,\n",
    "'LAW': 9,\n",
    "'LANGUAGE' : 10,\n",
    "'DATE' : 11,\n",
    "'TIME' : 12,\n",
    "'PERCENT' : 13,\n",
    "'MONEY' : 14,\n",
    "'QUANTITY' : 15,\n",
    "'ORDINAL' : 16,\n",
    "'CARDINAL': 17}"
   ]
  },
  {
   "cell_type": "code",
   "execution_count": null,
   "metadata": {},
   "outputs": [],
   "source": [
    "def add_ent_to_embedding(emb, l):\n",
    "    # Compute the entities for the lyrics\n",
    "    ents = get_entity_for_lyrics(l)\n",
    "    # Go over the embedding of the words\n",
    "    for i, w in enumerate(emb):\n",
    "        # Create empty binary vector\n",
    "        bin_vector = np.zeros(18)\n",
    "        # If the entity is None, means we don't know --> Keep all 0s\n",
    "        if ents[i] != None :\n",
    "            # Put 1 where the entity is when we know it : current entity is ents[i], pass to index with ent_to_idx\n",
    "            bin_vector[ent_to_idx[ents[i]]] = 1\n",
    "        # Add the binary vector at the end of embedding and return\n",
    "        emb[i] = np.append(w, bin_vector)\n",
    "    return emb"
   ]
  },
  {
   "cell_type": "code",
   "execution_count": null,
   "metadata": {},
   "outputs": [],
   "source": [
    "add_ent_to_embedding(lyrics_df.loc[0]['embedding'], lyrics_df.loc[0]['lyrics'])"
   ]
  },
  {
   "cell_type": "code",
   "execution_count": null,
   "metadata": {},
   "outputs": [],
   "source": [
    "for i, r in lyrics_df[:30].iterrows() :\n",
    "    r['embedding'] = add_ent_to_embedding(r['embedding'], r['lyrics'])"
   ]
  },
  {
   "cell_type": "markdown",
   "metadata": {},
   "source": [
    "[Go to top](#top)"
   ]
  },
  {
   "cell_type": "markdown",
   "metadata": {},
   "source": [
    "<a id=\"muse\"></a>"
   ]
  },
  {
   "cell_type": "markdown",
   "metadata": {},
   "source": [
    "## MUSE"
   ]
  },
  {
   "cell_type": "code",
   "execution_count": null,
   "metadata": {},
   "outputs": [],
   "source": []
  },
  {
   "cell_type": "markdown",
   "metadata": {},
   "source": [
    "[Go to top](#top)"
   ]
  },
  {
   "cell_type": "markdown",
   "metadata": {},
   "source": [
    "<a id=\"nn\"></a>"
   ]
  },
  {
   "cell_type": "markdown",
   "metadata": {},
   "source": [
    "## Neural Network"
   ]
  },
  {
   "cell_type": "code",
   "execution_count": null,
   "metadata": {},
   "outputs": [],
   "source": []
  },
  {
   "cell_type": "markdown",
   "metadata": {},
   "source": [
    "[Go to top](#top)"
   ]
  },
  {
   "cell_type": "markdown",
   "metadata": {},
   "source": [
    "<a id=\"site\"></a>"
   ]
  },
  {
   "cell_type": "markdown",
   "metadata": {},
   "source": [
    "## Webpage"
   ]
  },
  {
   "cell_type": "code",
   "execution_count": null,
   "metadata": {},
   "outputs": [],
   "source": []
  },
  {
   "cell_type": "markdown",
   "metadata": {},
   "source": [
    "[Go to top](#top)"
   ]
  }
 ],
 "metadata": {
  "anaconda-cloud": {},
  "kernelspec": {
   "display_name": "Python [conda root]",
   "language": "python",
   "name": "conda-root-py"
  },
  "language_info": {
   "codemirror_mode": {
    "name": "ipython",
    "version": 3
   },
   "file_extension": ".py",
   "mimetype": "text/x-python",
   "name": "python",
   "nbconvert_exporter": "python",
   "pygments_lexer": "ipython3",
   "version": "3.5.3"
  }
 },
 "nbformat": 4,
 "nbformat_minor": 2
}
