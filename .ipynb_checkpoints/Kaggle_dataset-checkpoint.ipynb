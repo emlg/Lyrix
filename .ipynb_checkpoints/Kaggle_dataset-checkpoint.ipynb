{
 "cells": [
  {
   "cell_type": "markdown",
   "metadata": {},
   "source": [
    "# Lyrix: Generating lyrics"
   ]
  },
  {
   "cell_type": "code",
   "execution_count": 29,
   "metadata": {},
   "outputs": [],
   "source": [
    "import numpy as np\n",
    "import pandas as pd\n",
    "from langdetect import detect"
   ]
  },
  {
   "cell_type": "code",
   "execution_count": 30,
   "metadata": {},
   "outputs": [],
   "source": [
    "filepath = \"kaggleDataset\\lyrics.csv\" #lyrics\n",
    "lyrics_df = pd.read_csv(filepath)\n",
    "lyrics_df.set_index('index', inplace = True)"
   ]
  },
  {
   "cell_type": "code",
   "execution_count": 31,
   "metadata": {
    "scrolled": true
   },
   "outputs": [
    {
     "name": "stdout",
     "output_type": "stream",
     "text": [
      "Number of songs: 362237\n"
     ]
    },
    {
     "data": {
      "text/html": [
       "<div>\n",
       "<style scoped>\n",
       "    .dataframe tbody tr th:only-of-type {\n",
       "        vertical-align: middle;\n",
       "    }\n",
       "\n",
       "    .dataframe tbody tr th {\n",
       "        vertical-align: top;\n",
       "    }\n",
       "\n",
       "    .dataframe thead th {\n",
       "        text-align: right;\n",
       "    }\n",
       "</style>\n",
       "<table border=\"1\" class=\"dataframe\">\n",
       "  <thead>\n",
       "    <tr style=\"text-align: right;\">\n",
       "      <th></th>\n",
       "      <th>song</th>\n",
       "      <th>year</th>\n",
       "      <th>artist</th>\n",
       "      <th>genre</th>\n",
       "      <th>lyrics</th>\n",
       "    </tr>\n",
       "    <tr>\n",
       "      <th>index</th>\n",
       "      <th></th>\n",
       "      <th></th>\n",
       "      <th></th>\n",
       "      <th></th>\n",
       "      <th></th>\n",
       "    </tr>\n",
       "  </thead>\n",
       "  <tbody>\n",
       "    <tr>\n",
       "      <th>0</th>\n",
       "      <td>ego-remix</td>\n",
       "      <td>2009</td>\n",
       "      <td>beyonce-knowles</td>\n",
       "      <td>Pop</td>\n",
       "      <td>Oh baby, how you doing?\\nYou know I'm gonna cu...</td>\n",
       "    </tr>\n",
       "    <tr>\n",
       "      <th>1</th>\n",
       "      <td>then-tell-me</td>\n",
       "      <td>2009</td>\n",
       "      <td>beyonce-knowles</td>\n",
       "      <td>Pop</td>\n",
       "      <td>playin' everything so easy,\\nit's like you see...</td>\n",
       "    </tr>\n",
       "    <tr>\n",
       "      <th>2</th>\n",
       "      <td>honesty</td>\n",
       "      <td>2009</td>\n",
       "      <td>beyonce-knowles</td>\n",
       "      <td>Pop</td>\n",
       "      <td>If you search\\nFor tenderness\\nIt isn't hard t...</td>\n",
       "    </tr>\n",
       "    <tr>\n",
       "      <th>3</th>\n",
       "      <td>you-are-my-rock</td>\n",
       "      <td>2009</td>\n",
       "      <td>beyonce-knowles</td>\n",
       "      <td>Pop</td>\n",
       "      <td>Oh oh oh I, oh oh oh I\\n[Verse 1:]\\nIf I wrote...</td>\n",
       "    </tr>\n",
       "    <tr>\n",
       "      <th>4</th>\n",
       "      <td>black-culture</td>\n",
       "      <td>2009</td>\n",
       "      <td>beyonce-knowles</td>\n",
       "      <td>Pop</td>\n",
       "      <td>Party the people, the people the party it's po...</td>\n",
       "    </tr>\n",
       "  </tbody>\n",
       "</table>\n",
       "</div>"
      ],
      "text/plain": [
       "                  song  year           artist genre  \\\n",
       "index                                                 \n",
       "0            ego-remix  2009  beyonce-knowles   Pop   \n",
       "1         then-tell-me  2009  beyonce-knowles   Pop   \n",
       "2              honesty  2009  beyonce-knowles   Pop   \n",
       "3      you-are-my-rock  2009  beyonce-knowles   Pop   \n",
       "4        black-culture  2009  beyonce-knowles   Pop   \n",
       "\n",
       "                                                  lyrics  \n",
       "index                                                     \n",
       "0      Oh baby, how you doing?\\nYou know I'm gonna cu...  \n",
       "1      playin' everything so easy,\\nit's like you see...  \n",
       "2      If you search\\nFor tenderness\\nIt isn't hard t...  \n",
       "3      Oh oh oh I, oh oh oh I\\n[Verse 1:]\\nIf I wrote...  \n",
       "4      Party the people, the people the party it's po...  "
      ]
     },
     "execution_count": 31,
     "metadata": {},
     "output_type": "execute_result"
    }
   ],
   "source": [
    "print(\"Number of songs: {}\".format(len(lyrics_df)))\n",
    "lyrics_df.head()"
   ]
  },
  {
   "cell_type": "markdown",
   "metadata": {},
   "source": [
    "We will only keep the songs with availaible lyrics ! (Maybe keep the songs with no lyrics as the song name often appears in the lyrics)"
   ]
  },
  {
   "cell_type": "code",
   "execution_count": 32,
   "metadata": {},
   "outputs": [
    {
     "name": "stdout",
     "output_type": "stream",
     "text": [
      "Number of songs WITH available lyrics: 266557\n"
     ]
    }
   ],
   "source": [
    "lyrics_df.dropna(axis = 'index', subset = ['lyrics'], inplace = True)\n",
    "print(\"Number of songs WITH available lyrics: {}\".format(len(lyrics_df)))"
   ]
  },
  {
   "cell_type": "code",
   "execution_count": 33,
   "metadata": {},
   "outputs": [],
   "source": [
    "artists = set(lyrics_df[\"artist\"])\n",
    "genres = set(lyrics_df[\"genre\"])"
   ]
  },
  {
   "cell_type": "code",
   "execution_count": 34,
   "metadata": {},
   "outputs": [
    {
     "name": "stdout",
     "output_type": "stream",
     "text": [
      "Genres: {'Folk', 'Electronic', 'Pop', 'Rock', 'Other', 'Country', 'R&B', 'Not Available', 'Indie', 'Hip-Hop', 'Jazz', 'Metal'}\n",
      "Number of artists: 14543\n"
     ]
    }
   ],
   "source": [
    "print(\"Genres: {}\".format(genres))\n",
    "print(\"Number of artists: {}\".format(len(artists)))"
   ]
  },
  {
   "cell_type": "code",
   "execution_count": 35,
   "metadata": {},
   "outputs": [
    {
     "data": {
      "text/plain": [
       "{'Folk': 2243,\n",
       " 'Electronic': 7966,\n",
       " 'Pop': 40466,\n",
       " 'Rock': 109235,\n",
       " 'Other': 5189,\n",
       " 'Country': 14387,\n",
       " 'R&B': 3401,\n",
       " 'Not Available': 23941,\n",
       " 'Indie': 3149,\n",
       " 'Hip-Hop': 24850,\n",
       " 'Jazz': 7971,\n",
       " 'Metal': 23759}"
      ]
     },
     "execution_count": 35,
     "metadata": {},
     "output_type": "execute_result"
    }
   ],
   "source": [
    "songs_per_genre = {}\n",
    "for genre in genres:\n",
    "    songs_per_genre[genre] = len(lyrics_df[lyrics_df['genre'] == genre])\n",
    "songs_per_genre"
   ]
  },
  {
   "cell_type": "code",
   "execution_count": 36,
   "metadata": {},
   "outputs": [
    {
     "data": {
      "text/html": [
       "<div>\n",
       "<style scoped>\n",
       "    .dataframe tbody tr th:only-of-type {\n",
       "        vertical-align: middle;\n",
       "    }\n",
       "\n",
       "    .dataframe tbody tr th {\n",
       "        vertical-align: top;\n",
       "    }\n",
       "\n",
       "    .dataframe thead th {\n",
       "        text-align: right;\n",
       "    }\n",
       "</style>\n",
       "<table border=\"1\" class=\"dataframe\">\n",
       "  <thead>\n",
       "    <tr style=\"text-align: right;\">\n",
       "      <th></th>\n",
       "      <th>song</th>\n",
       "      <th>year</th>\n",
       "      <th>artist</th>\n",
       "      <th>genre</th>\n",
       "      <th>lyrics</th>\n",
       "    </tr>\n",
       "    <tr>\n",
       "      <th>index</th>\n",
       "      <th></th>\n",
       "      <th></th>\n",
       "      <th></th>\n",
       "      <th></th>\n",
       "      <th></th>\n",
       "    </tr>\n",
       "  </thead>\n",
       "  <tbody>\n",
       "    <tr>\n",
       "      <th>350</th>\n",
       "      <td>oooh-ooh-saint-nick</td>\n",
       "      <td>2009</td>\n",
       "      <td>dick-mace</td>\n",
       "      <td>Not Available</td>\n",
       "      <td>Santa Claus was scootin'across the roof tops '...</td>\n",
       "    </tr>\n",
       "    <tr>\n",
       "      <th>385</th>\n",
       "      <td>wer-liebe-sucht</td>\n",
       "      <td>2006</td>\n",
       "      <td>daliah-lavi</td>\n",
       "      <td>Not Available</td>\n",
       "      <td>Ist das so schwer\\nein kleines Lächeln\\nwenn d...</td>\n",
       "    </tr>\n",
       "    <tr>\n",
       "      <th>386</th>\n",
       "      <td>es-geht-auch-so</td>\n",
       "      <td>2006</td>\n",
       "      <td>daliah-lavi</td>\n",
       "      <td>Not Available</td>\n",
       "      <td>Der Weg\\nden du und ich gegangen\\nführt mit ei...</td>\n",
       "    </tr>\n",
       "    <tr>\n",
       "      <th>387</th>\n",
       "      <td>liebeslied-jener-sommernacht</td>\n",
       "      <td>2006</td>\n",
       "      <td>daliah-lavi</td>\n",
       "      <td>Not Available</td>\n",
       "      <td>Rote Schatten warf das Feuer\\nhell wie Gold wa...</td>\n",
       "    </tr>\n",
       "    <tr>\n",
       "      <th>388</th>\n",
       "      <td>willst-du-mit-mir-gehn</td>\n",
       "      <td>2006</td>\n",
       "      <td>daliah-lavi</td>\n",
       "      <td>Not Available</td>\n",
       "      <td>Willst Du mit mir gehn,Wenn mein Weg in Dunkel...</td>\n",
       "    </tr>\n",
       "  </tbody>\n",
       "</table>\n",
       "</div>"
      ],
      "text/plain": [
       "                               song  year       artist          genre  \\\n",
       "index                                                                   \n",
       "350             oooh-ooh-saint-nick  2009    dick-mace  Not Available   \n",
       "385                 wer-liebe-sucht  2006  daliah-lavi  Not Available   \n",
       "386                 es-geht-auch-so  2006  daliah-lavi  Not Available   \n",
       "387    liebeslied-jener-sommernacht  2006  daliah-lavi  Not Available   \n",
       "388          willst-du-mit-mir-gehn  2006  daliah-lavi  Not Available   \n",
       "\n",
       "                                                  lyrics  \n",
       "index                                                     \n",
       "350    Santa Claus was scootin'across the roof tops '...  \n",
       "385    Ist das so schwer\\nein kleines Lächeln\\nwenn d...  \n",
       "386    Der Weg\\nden du und ich gegangen\\nführt mit ei...  \n",
       "387    Rote Schatten warf das Feuer\\nhell wie Gold wa...  \n",
       "388    Willst Du mit mir gehn,Wenn mein Weg in Dunkel...  "
      ]
     },
     "execution_count": 36,
     "metadata": {},
     "output_type": "execute_result"
    }
   ],
   "source": [
    "not_available_df = lyrics_df[lyrics_df['genre'] == 'Not Available']\n",
    "not_available_df.head()"
   ]
  },
  {
   "cell_type": "markdown",
   "metadata": {},
   "source": [
    "Use the detect library to detect the main language of each song and remove the songs that are detected as NOT english"
   ]
  },
  {
   "cell_type": "code",
   "execution_count": 66,
   "metadata": {},
   "outputs": [
    {
     "name": "stdout",
     "output_type": "stream",
     "text": [
      "0\n",
      "1000\n",
      "2000\n",
      "4000\n",
      "5000\n",
      "7000\n",
      "9000\n",
      "13000\n",
      "14000\n",
      "16000\n",
      "17000\n",
      "18000\n",
      "19000\n",
      "22000\n",
      "25000\n",
      "26000\n",
      "27000\n",
      "29000\n",
      "31000\n",
      "33000\n",
      "34000\n",
      "36000\n",
      "37000\n",
      "38000\n",
      "40000\n",
      "42000\n",
      "43000\n",
      "44000\n",
      "46000\n",
      "47000\n",
      "48000\n",
      "49000\n",
      "50000\n",
      "52000\n",
      "53000\n",
      "54000\n",
      "56000\n",
      "57000\n",
      "58000\n",
      "59000\n",
      "60000\n",
      "61000\n",
      "62000\n",
      "64000\n",
      "66000\n",
      "67000\n",
      "68000\n",
      "69000\n",
      "70000\n",
      "72000\n",
      "73000\n",
      "75000\n",
      "76000\n",
      "77000\n",
      "78000\n",
      "80000\n",
      "81000\n",
      "83000\n",
      "84000\n",
      "85000\n",
      "86000\n",
      "87000\n",
      "89000\n",
      "91000\n",
      "92000\n",
      "93000\n",
      "95000\n",
      "96000\n",
      "97000\n",
      "98000\n",
      "100000\n",
      "102000\n",
      "103000\n",
      "105000\n",
      "107000\n",
      "108000\n",
      "110000\n",
      "111000\n",
      "112000\n",
      "113000\n",
      "115000\n",
      "116000\n",
      "117000\n",
      "118000\n",
      "121000\n",
      "122000\n",
      "124000\n",
      "125000\n",
      "126000\n",
      "127000\n",
      "129000\n",
      "130000\n",
      "131000\n",
      "132000\n",
      "134000\n",
      "135000\n",
      "137000\n",
      "138000\n",
      "139000\n",
      "140000\n",
      "141000\n",
      "143000\n",
      "144000\n",
      "145000\n",
      "146000\n",
      "147000\n",
      "148000\n",
      "149000\n",
      "150000\n",
      "151000\n",
      "154000\n",
      "156000\n",
      "157000\n",
      "158000\n",
      "159000\n",
      "161000\n",
      "162000\n",
      "164000\n",
      "165000\n",
      "166000\n",
      "170000\n",
      "171000\n",
      "172000\n",
      "174000\n",
      "175000\n",
      "177000\n",
      "178000\n",
      "179000\n",
      "180000\n",
      "181000\n",
      "182000\n",
      "184000\n",
      "186000\n",
      "187000\n",
      "188000\n",
      "189000\n",
      "190000\n",
      "191000\n",
      "192000\n",
      "193000\n",
      "195000\n",
      "196000\n",
      "197000\n",
      "199000\n",
      "200000\n",
      "201000\n",
      "202000\n",
      "205000\n",
      "206000\n",
      "207000\n",
      "208000\n",
      "209000\n",
      "211000\n",
      "212000\n",
      "213000\n",
      "214000\n",
      "215000\n",
      "218000\n",
      "219000\n",
      "220000\n",
      "221000\n",
      "222000\n",
      "223000\n",
      "225000\n",
      "226000\n",
      "227000\n",
      "228000\n",
      "230000\n",
      "231000\n",
      "232000\n",
      "233000\n",
      "234000\n",
      "235000\n",
      "237000\n",
      "240000\n",
      "243000\n",
      "244000\n",
      "245000\n",
      "247000\n",
      "248000\n",
      "250000\n",
      "251000\n",
      "252000\n",
      "253000\n",
      "254000\n",
      "255000\n",
      "257000\n",
      "258000\n",
      "259000\n",
      "260000\n",
      "261000\n",
      "262000\n",
      "263000\n",
      "265000\n",
      "266000\n",
      "267000\n",
      "269000\n",
      "270000\n",
      "271000\n",
      "272000\n",
      "273000\n",
      "274000\n",
      "275000\n",
      "276000\n",
      "277000\n",
      "280000\n",
      "281000\n",
      "282000\n",
      "283000\n",
      "284000\n",
      "285000\n",
      "286000\n",
      "287000\n",
      "288000\n",
      "291000\n",
      "292000\n",
      "294000\n",
      "296000\n",
      "298000\n",
      "300000\n",
      "301000\n",
      "302000\n",
      "304000\n",
      "306000\n",
      "307000\n",
      "308000\n",
      "310000\n",
      "311000\n",
      "312000\n",
      "315000\n",
      "316000\n",
      "319000\n",
      "320000\n",
      "321000\n",
      "323000\n",
      "325000\n",
      "329000\n",
      "330000\n",
      "331000\n",
      "333000\n",
      "335000\n",
      "336000\n",
      "338000\n",
      "339000\n",
      "340000\n",
      "341000\n",
      "342000\n",
      "343000\n",
      "345000\n",
      "346000\n",
      "348000\n",
      "349000\n",
      "350000\n",
      "352000\n",
      "354000\n",
      "355000\n",
      "356000\n",
      "357000\n",
      "358000\n",
      "359000\n",
      "360000\n",
      "361000\n",
      "362000\n"
     ]
    }
   ],
   "source": [
    "def language_of_lyrics(lyrics):\n",
    "    try:\n",
    "        lang = detect(lyrics)\n",
    "        return lang\n",
    "    except:\n",
    "        return \"no lang\"\n",
    "\n",
    "#lyrics_df['language'] = lyrics_df.apply(lambda row: language_of_lyrics, axis = 1)\n",
    "list_langs = []\n",
    "for i, row in lyrics_df.iterrows():\n",
    "    if i % 1000 == 0:\n",
    "        print(i)\n",
    "    lang = language_of_lyrics(row['lyrics'])\n",
    "    list_langs.append(lang)"
   ]
  },
  {
   "cell_type": "code",
   "execution_count": 70,
   "metadata": {},
   "outputs": [
    {
     "name": "stdout",
     "output_type": "stream",
     "text": [
      "238215\n"
     ]
    },
    {
     "data": {
      "text/html": [
       "<div>\n",
       "<style scoped>\n",
       "    .dataframe tbody tr th:only-of-type {\n",
       "        vertical-align: middle;\n",
       "    }\n",
       "\n",
       "    .dataframe tbody tr th {\n",
       "        vertical-align: top;\n",
       "    }\n",
       "\n",
       "    .dataframe thead th {\n",
       "        text-align: right;\n",
       "    }\n",
       "</style>\n",
       "<table border=\"1\" class=\"dataframe\">\n",
       "  <thead>\n",
       "    <tr style=\"text-align: right;\">\n",
       "      <th></th>\n",
       "      <th>song</th>\n",
       "      <th>year</th>\n",
       "      <th>artist</th>\n",
       "      <th>genre</th>\n",
       "      <th>lyrics</th>\n",
       "      <th>language</th>\n",
       "    </tr>\n",
       "    <tr>\n",
       "      <th>index</th>\n",
       "      <th></th>\n",
       "      <th></th>\n",
       "      <th></th>\n",
       "      <th></th>\n",
       "      <th></th>\n",
       "      <th></th>\n",
       "    </tr>\n",
       "  </thead>\n",
       "  <tbody>\n",
       "    <tr>\n",
       "      <th>0</th>\n",
       "      <td>ego-remix</td>\n",
       "      <td>2009</td>\n",
       "      <td>beyonce-knowles</td>\n",
       "      <td>Pop</td>\n",
       "      <td>Oh baby, how you doing?\\nYou know I'm gonna cu...</td>\n",
       "      <td>en</td>\n",
       "    </tr>\n",
       "    <tr>\n",
       "      <th>1</th>\n",
       "      <td>then-tell-me</td>\n",
       "      <td>2009</td>\n",
       "      <td>beyonce-knowles</td>\n",
       "      <td>Pop</td>\n",
       "      <td>playin' everything so easy,\\nit's like you see...</td>\n",
       "      <td>en</td>\n",
       "    </tr>\n",
       "    <tr>\n",
       "      <th>2</th>\n",
       "      <td>honesty</td>\n",
       "      <td>2009</td>\n",
       "      <td>beyonce-knowles</td>\n",
       "      <td>Pop</td>\n",
       "      <td>If you search\\nFor tenderness\\nIt isn't hard t...</td>\n",
       "      <td>en</td>\n",
       "    </tr>\n",
       "    <tr>\n",
       "      <th>3</th>\n",
       "      <td>you-are-my-rock</td>\n",
       "      <td>2009</td>\n",
       "      <td>beyonce-knowles</td>\n",
       "      <td>Pop</td>\n",
       "      <td>Oh oh oh I, oh oh oh I\\n[Verse 1:]\\nIf I wrote...</td>\n",
       "      <td>en</td>\n",
       "    </tr>\n",
       "    <tr>\n",
       "      <th>4</th>\n",
       "      <td>black-culture</td>\n",
       "      <td>2009</td>\n",
       "      <td>beyonce-knowles</td>\n",
       "      <td>Pop</td>\n",
       "      <td>Party the people, the people the party it's po...</td>\n",
       "      <td>en</td>\n",
       "    </tr>\n",
       "  </tbody>\n",
       "</table>\n",
       "</div>"
      ],
      "text/plain": [
       "                  song  year           artist genre  \\\n",
       "index                                                 \n",
       "0            ego-remix  2009  beyonce-knowles   Pop   \n",
       "1         then-tell-me  2009  beyonce-knowles   Pop   \n",
       "2              honesty  2009  beyonce-knowles   Pop   \n",
       "3      you-are-my-rock  2009  beyonce-knowles   Pop   \n",
       "4        black-culture  2009  beyonce-knowles   Pop   \n",
       "\n",
       "                                                  lyrics language  \n",
       "index                                                              \n",
       "0      Oh baby, how you doing?\\nYou know I'm gonna cu...       en  \n",
       "1      playin' everything so easy,\\nit's like you see...       en  \n",
       "2      If you search\\nFor tenderness\\nIt isn't hard t...       en  \n",
       "3      Oh oh oh I, oh oh oh I\\n[Verse 1:]\\nIf I wrote...       en  \n",
       "4      Party the people, the people the party it's po...       en  "
      ]
     },
     "execution_count": 70,
     "metadata": {},
     "output_type": "execute_result"
    }
   ],
   "source": [
    "lyrics_df['language'] = list_langs\n",
    "english_df = lyrics_df[lyrics_df['language'] == 'en']\n",
    "print(len(english_df))\n",
    "english_df.head()"
   ]
  },
  {
   "cell_type": "markdown",
   "metadata": {},
   "source": [
    "### 'Not Available' genre: get rid of the songs ? Remove non-English songs ?"
   ]
  },
  {
   "cell_type": "code",
   "execution_count": 8,
   "metadata": {},
   "outputs": [
    {
     "name": "stdout",
     "output_type": "stream",
     "text": [
      "Artists in Metal: ['acid-bath', 'erase', 'coma-prevail', 'an-early-ending', 'esoteric']\n"
     ]
    }
   ],
   "source": [
    "genres_artists_dict = {}\n",
    "for genre in genres:\n",
    "    lyrics_genre = lyrics_df[lyrics_df['genre'] == genre]\n",
    "    genres_artists_dict[genre] = set(lyrics_genre['artist'])\n",
    "    \n",
    "print(\"Artists in Metal: {}\".format(list(genres_artists_dict['Metal'])[:5]))"
   ]
  },
  {
   "cell_type": "markdown",
   "metadata": {},
   "source": [
    "Get example of lyrics:"
   ]
  },
  {
   "cell_type": "code",
   "execution_count": 28,
   "metadata": {},
   "outputs": [
    {
     "name": "stdout",
     "output_type": "stream",
     "text": [
      "[\"An iron fist in a velvet glove.\\nAnother vulture posing as a dove.\\nDo you have no shame? Look at what you've become.\\nYou are the reason we are bitter and then some.\\nBitter and then some.\\nThey sing of saviors, we sing of sorrow.\\nBut we're still holding on for dear life.\\nYou sold us all down the river.\\nI hope you choke on the vows that you failed to deliver.\\nYou said you'd change the world, but death still flies east.\\nThe blind lead the blind, so we bomb for peace.\\nGravedigger (gravedigger) there's blood on your hands.\\nYou built this empire on salt and sand.\\nNot all is fair in love and war.\\nHistory repeats, we've seen this all before.\\nWe've given the vampires the keys to the blood bank.\\nThey say the more things change, the more they stay the same.\\nWhile the liars leech, the crooked preach.\\nSo lie through your teeth, lie like you mean it.\\nIt beggars belief, do you really think that we still fucking believe it?\\nYou fucking parasite.\\nThere's no room in here for an honest man,\\nOnly callous and cold hearts.\\nGravedigger (gravedigger), there's blood on your hands.\\nYou built this empire on salt and sand.\\nNot all is fair in love and war.\\nHistory repeats, we've seen it all before.\\nOppressor, you built this empire on salt and sand.\\nOppressor, you built this empire on salt and sand.\\nAn iron fist in a velvet glove.\\nAnother vulture posing as a dove.\\nDo you have no shame? Look at what you've become.\\nYou are the reason we are bitter and then some.\\nBitter and then some.\\nThey sing of saviors, we sing of sorrow.\\nBut we're still holding on for dear life.\"]\n"
     ]
    }
   ],
   "source": [
    "artist = 'architects'\n",
    "song = 'gravedigger'\n",
    "example = lyrics_df[lyrics_df['artist'] == artist]\n",
    "print(list(example[example['song'] == song]['lyrics']))"
   ]
  },
  {
   "cell_type": "markdown",
   "metadata": {},
   "source": [
    "### Scrapping for more lyrics on https://www.lyricsfreak.com:"
   ]
  },
  {
   "cell_type": "code",
   "execution_count": 74,
   "metadata": {},
   "outputs": [],
   "source": [
    "import requests\n",
    "import spotipy\n",
    "from bs4 import BeautifulSoup"
   ]
  },
  {
   "cell_type": "code",
   "execution_count": 10,
   "metadata": {},
   "outputs": [],
   "source": [
    "url_lyricsfreak = 'https://www.lyricsfreak.com'"
   ]
  },
  {
   "cell_type": "code",
   "execution_count": 13,
   "metadata": {},
   "outputs": [],
   "source": [
    "#def get_genre_from_artist(artist):\n",
    "    \n",
    "\n",
    "def get_lyrics_from_link(url):\n",
    "    response = requests.get(url).content\n",
    "    soup_lyrics = BeautifulSoup(response, \"lxml\")\n",
    "    # Get lyrics from the link\n",
    "    lyrics_html = soup_lyrics.find_all('div', class_= \"dn\") # found by inspecting the url\n",
    "    lyrics = str(lyrics_html).split('content_h\">')[1].split('</div>')[0]\n",
    "    \"\"\"Do all the cleaning on the lyrics here: maybe keep if only english ?\"\"\"\n",
    "    # Replace line jump (<br/>) with puctuation .\n",
    "    lyrics_cleaned = lyrics.replace('<br/>', '. ')\n",
    "    return lyrics_cleaned\n",
    "\n",
    "\n",
    "# Given an artist name, get all his songs and lyrics available on lyricsfreak\n",
    "def get_songs_from_artist(artist_name):\n",
    "    # Convert artist name to right format for the url\n",
    "    artist = artist_name.lower()\n",
    "    first_char = artist[0]\n",
    "    artist_url = artist.replace(' ', '+') # Name with spaces\n",
    "    url = url_lyricsfreak + '/' + first_char + '/' + artist_url + '/'\n",
    "    # Get HTML info on URL\n",
    "    response = requests.get(url).content\n",
    "    soup = BeautifulSoup(response, \"lxml\")\n",
    "    # Get all songs from that artist on the website\n",
    "    songs_html = soup.find_all(\"td\", \"colfirst\") # parameters found by inspecting the url\n",
    "    \n",
    "    songs_name_link = []\n",
    "    for song in songs_html:\n",
    "        song = str(song)\n",
    "        if artist_url + '/' in song:\n",
    "            link = song.split(artist_url + '/')[1].split('\"')[0]\n",
    "            song_name = song.split('title=\"')[1].split(' Lyrics\"')[0]\n",
    "            # Fetch the lyrics for this song\n",
    "            url_lyrics = url + link\n",
    "            lyrics = get_lyrics_from_link(url_lyrics)\n",
    "            songs_name_link.append((song_name, lyrics))\n",
    "    return songs_name_link"
   ]
  },
  {
   "cell_type": "code",
   "execution_count": 16,
   "metadata": {},
   "outputs": [
    {
     "name": "stdout",
     "output_type": "stream",
     "text": [
      "Northlane\n",
      "32\n",
      "My Chemical Romance\n",
      "88\n",
      "Mac Miller\n",
      "200\n",
      "Bad Omens\n",
      "13\n",
      "139.8742551803589\n"
     ]
    }
   ],
   "source": [
    "import time\n",
    "\n",
    "start = time.time()\n",
    "artists = [\"Northlane\", \"My Chemical Romance\", \"Mac Miller\", \"Bad Omens\"]\n",
    "for artist in artists:\n",
    "    print(artist)\n",
    "    artist_lyrics = get_songs_from_artist(artist)\n",
    "    print(len(artist_lyrics))\n",
    "end = time.time()\n",
    "print(end - start)"
   ]
  },
  {
   "cell_type": "code",
   "execution_count": 148,
   "metadata": {},
   "outputs": [
    {
     "data": {
      "text/plain": [
       "[]"
      ]
     },
     "execution_count": 148,
     "metadata": {},
     "output_type": "execute_result"
    }
   ],
   "source": [
    "songs_northlane"
   ]
  },
  {
   "cell_type": "code",
   "execution_count": null,
   "metadata": {},
   "outputs": [],
   "source": []
  }
 ],
 "metadata": {
  "kernelspec": {
   "display_name": "Python 3",
   "language": "python",
   "name": "python3"
  },
  "language_info": {
   "codemirror_mode": {
    "name": "ipython",
    "version": 3
   },
   "file_extension": ".py",
   "mimetype": "text/x-python",
   "name": "python",
   "nbconvert_exporter": "python",
   "pygments_lexer": "ipython3",
   "version": "3.6.5"
  }
 },
 "nbformat": 4,
 "nbformat_minor": 2
}
