{
 "cells": [
  {
   "cell_type": "code",
   "execution_count": 1,
   "metadata": {},
   "outputs": [],
   "source": [
    "import requests"
   ]
  },
  {
   "cell_type": "code",
   "execution_count": 2,
   "metadata": {},
   "outputs": [],
   "source": [
    "api_key = \"156187ce3da6574415bec5c89e2cc417\""
   ]
  },
  {
   "cell_type": "markdown",
   "metadata": {},
   "source": [
    "WORKED : http://api.musixmatch.com/ws/1.1/track.search?apikey=156187ce3da6574415bec5c89e2cc417&q_artist=queen&q_track=we%20are%20the%20champions&format=json&page_size=1&f_has_lyrics=1"
   ]
  },
  {
   "cell_type": "code",
   "execution_count": null,
   "metadata": {},
   "outputs": [],
   "source": [
    "requests.get(\"http://api.musixmatch.com/ws/1.1/track.lyrics.get?track_id=15953433&apikey=\"+api_key).text"
   ]
  },
  {
   "cell_type": "code",
   "execution_count": 14,
   "metadata": {},
   "outputs": [],
   "source": [
    "import json as json"
   ]
  },
  {
   "cell_type": "code",
   "execution_count": 35,
   "metadata": {},
   "outputs": [
    {
     "data": {
      "text/plain": [
       "\"Now and then I think of when we were together\\nLike when you said you felt so happy you could die\\nTold myself that you were right for me\\nBut felt so lonely in your company\\nBut that was love, and it's an ache I still remember\\n\\nYou can get addicted to a certain kind of sadness\\nLike resignation to the end, always the end\\nSo when we found that we could not make sense\\nWell, you said that we would still be friends\\nBut I'll admit that I was glad that it was over\\n\\nBut you didn't have to cut me off\\nMake out like it never happened and that we were nothing\\nAnd I don't even need your love\\nBut you treat me like a stranger, and that feels so rough\\n\\nNo, you didn't have to stoop so low\\n...\\n\\n******* This Lyrics is NOT for Commercial use *******\""
      ]
     },
     "execution_count": 35,
     "metadata": {},
     "output_type": "execute_result"
    }
   ],
   "source": [
    "r = requests.get(\"http://api.musixmatch.com/ws/1.1/track.lyrics.get?track_id=15953433&apikey=\"+ api_key)\n",
    "resp = r.json()\n",
    "resp['message']['body']['lyrics']['lyrics_body']"
   ]
  },
  {
   "cell_type": "markdown",
   "metadata": {},
   "source": [
    "Once we have the song id we can get the beginning of the lyrics with the following function"
   ]
  },
  {
   "cell_type": "code",
   "execution_count": 36,
   "metadata": {},
   "outputs": [],
   "source": [
    "def get_lyrics(song_id):\n",
    "    r = requests.get(\"http://api.musixmatch.com/ws/1.1/track.lyrics.get?track_id=\"+song_id+\"&apikey=\"+ api_key)\n",
    "    resp = r.json()\n",
    "    return resp['message']['body']['lyrics']['lyrics_body']"
   ]
  },
  {
   "cell_type": "markdown",
   "metadata": {},
   "source": [
    "How to get the song id ?\n",
    "- Query song title : q_track\n",
    "- song artist : q_artist\n",
    "- Any word in the lyrics : q_lyrics\n",
    "- Any word in the song title or artist name : q_track_artist"
   ]
  },
  {
   "cell_type": "code",
   "execution_count": 43,
   "metadata": {
    "scrolled": false
   },
   "outputs": [
    {
     "name": "stdout",
     "output_type": "stream",
     "text": [
      "Tungevaag  -  Women of Marvel  : 82892299\n",
      "Zoom Karaoke  -  Run the World (Girls) [In the Style of Beyonce] {Karaoke Version}  : 68425173\n",
      "GEIST  -  The Lost but Sublime  : 76470583\n",
      "Pro Sound Effects Library  -  Sleigh Bells 3  : 34867790\n",
      "Radka Toneff  -  The World  : 1788533\n",
      "City Boy  -  The Day the Earth Caught Fire  : 18232844\n",
      "Annekei  -  Touch  : 15654764\n",
      "TheFatRat  -  TheFatRat on Ministry of Sound Radio  : 74533087\n",
      "Jean C. Roché  -  Pallid Swift  : 6786585\n",
      "Sound Effects Library  -  Camera - Automatic: Short Servo Burst Cameras  : 42640822\n"
     ]
    }
   ],
   "source": [
    "r = requests.get(\"http://api.musixmatch.com/ws/1.1/track.search?q_lyrics=who%20run%20the%20world&apikey=\"+ api_key)\n",
    "resp = r.json()\n",
    "track_list = resp[\"message\"][\"body\"][\"track_list\"]\n",
    "\n",
    "for track in track_list :\n",
    "    print(track[\"track\"][\"artist_name\"],\" - \" ,track[\"track\"][\"track_name\"],\" :\", track[\"track\"][\"track_id\"])"
   ]
  },
  {
   "cell_type": "markdown",
   "metadata": {},
   "source": [
    "Directly get the beginning of lyrics from title and artist"
   ]
  },
  {
   "cell_type": "code",
   "execution_count": 45,
   "metadata": {},
   "outputs": [
    {
     "data": {
      "text/plain": [
       "\"Yeah, yeah\\nWhen I walk on by, girls be looking like damn he fly\\nI pimp to the beat\\nWalking on the street in my new LaFreak, yeah\\nThis is how I roll, animal print, pants out control\\nIt's Redfoo with the big F O\\nThey like Bruce Lee rock at the club (yeah)\\n\\nGirl look at that body\\nGirl look at that body\\nGirl look at that body\\nI-I-I work out\\nGirl look at that body\\nGirl look at that body\\nGirl look at that body\\nI-I-I work out\\n\\nWhen I walk in the spot, this is what I see (Okay)\\nEverybody stops and they staring at me\\nI got passion in my pants and I ain't afraid to show it\\n(Show it, show it, show it...)\\n\\nI'm sexy and I know it\\n...\\n\\n******* This Lyrics is NOT for Commercial use *******\""
      ]
     },
     "execution_count": 45,
     "metadata": {},
     "output_type": "execute_result"
    }
   ],
   "source": [
    "r = requests.get(\"http://api.musixmatch.com/ws/1.1/matcher.lyrics.get?q_track=sexy%20and%20i%20know%20it&q_artist=lmfao&apikey=\"+ api_key)\n",
    "resp = r.json()\n",
    "resp[\"message\"][\"body\"][\"lyrics\"][\"lyrics_body\"]"
   ]
  }
 ],
 "metadata": {
  "anaconda-cloud": {},
  "kernelspec": {
   "display_name": "Python 3",
   "language": "python",
   "name": "python3"
  },
  "language_info": {
   "codemirror_mode": {
    "name": "ipython",
    "version": 3
   },
   "file_extension": ".py",
   "mimetype": "text/x-python",
   "name": "python",
   "nbconvert_exporter": "python",
   "pygments_lexer": "ipython3",
   "version": "3.6.5"
  }
 },
 "nbformat": 4,
 "nbformat_minor": 2
}
