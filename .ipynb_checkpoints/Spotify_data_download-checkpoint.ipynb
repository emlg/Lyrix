{
 "cells": [
  {
   "cell_type": "markdown",
   "metadata": {},
   "source": [
    "# Data downloading from Spotify"
   ]
  },
  {
   "cell_type": "markdown",
   "metadata": {},
   "source": [
    "We would like to get the musical genre associated to an artist from Spotify."
   ]
  },
  {
   "cell_type": "markdown",
   "metadata": {},
   "source": [
    "## Spotify Authentication"
   ]
  },
  {
   "cell_type": "markdown",
   "metadata": {},
   "source": [
    "In order to use the Spotify API, we need to register on their websites to obtain our client_id and secret. Then we can ask for a token allowing us to get the wanted information on the artists."
   ]
  },
  {
   "cell_type": "code",
   "execution_count": 41,
   "metadata": {},
   "outputs": [],
   "source": [
    "import spotipy\n",
    "import spotipy.oauth2 as oauth2\n",
    "import spotipy.util as util\n",
    "\n",
    "import pandas as pd\n",
    "import numpy as np\n",
    "import re\n",
    "import matplotlib.pyplot as plt"
   ]
  },
  {
   "cell_type": "code",
   "execution_count": 2,
   "metadata": {},
   "outputs": [],
   "source": [
    "client_id = \"c829ff34022d4c3a9e65c30c10623765\"\n",
    "client_secret = \"8e998357ebf04fe092edab4915946e00\"\n",
    "\n",
    "credentials = oauth2.SpotifyClientCredentials(client_id, client_secret)\n",
    "\n",
    "token = credentials.get_access_token()\n",
    "sp = spotipy.Spotify(auth=token)"
   ]
  },
  {
   "cell_type": "markdown",
   "metadata": {},
   "source": [
    "### Mapping Artist to the Genres"
   ]
  },
  {
   "cell_type": "markdown",
   "metadata": {},
   "source": [
    "Import the artists and already pre-defined genres in a pandas dataframe"
   ]
  },
  {
   "cell_type": "code",
   "execution_count": 37,
   "metadata": {},
   "outputs": [
    {
     "data": {
      "text/html": [
       "<div>\n",
       "<style scoped>\n",
       "    .dataframe tbody tr th:only-of-type {\n",
       "        vertical-align: middle;\n",
       "    }\n",
       "\n",
       "    .dataframe tbody tr th {\n",
       "        vertical-align: top;\n",
       "    }\n",
       "\n",
       "    .dataframe thead th {\n",
       "        text-align: right;\n",
       "    }\n",
       "</style>\n",
       "<table border=\"1\" class=\"dataframe\">\n",
       "  <thead>\n",
       "    <tr style=\"text-align: right;\">\n",
       "      <th></th>\n",
       "      <th>artist.name</th>\n",
       "      <th>terms</th>\n",
       "    </tr>\n",
       "  </thead>\n",
       "  <tbody>\n",
       "    <tr>\n",
       "      <th>0</th>\n",
       "      <td>Casual</td>\n",
       "      <td>hip hop</td>\n",
       "    </tr>\n",
       "    <tr>\n",
       "      <th>1</th>\n",
       "      <td>The Box Tops</td>\n",
       "      <td>blue-eyed soul</td>\n",
       "    </tr>\n",
       "    <tr>\n",
       "      <th>2</th>\n",
       "      <td>Sonora Santanera</td>\n",
       "      <td>salsa</td>\n",
       "    </tr>\n",
       "    <tr>\n",
       "      <th>3</th>\n",
       "      <td>Adam Ant</td>\n",
       "      <td>pop rock</td>\n",
       "    </tr>\n",
       "    <tr>\n",
       "      <th>4</th>\n",
       "      <td>Gob</td>\n",
       "      <td>pop punk</td>\n",
       "    </tr>\n",
       "  </tbody>\n",
       "</table>\n",
       "</div>"
      ],
      "text/plain": [
       "        artist.name           terms\n",
       "0            Casual         hip hop\n",
       "1      The Box Tops  blue-eyed soul\n",
       "2  Sonora Santanera           salsa\n",
       "3          Adam Ant        pop rock\n",
       "4               Gob        pop punk"
      ]
     },
     "execution_count": 37,
     "metadata": {},
     "output_type": "execute_result"
    }
   ],
   "source": [
    "filepath = \"kaggleDataset\\music.csv\" #lyrics\n",
    "lyrics_df = pd.read_csv(filepath)\n",
    "useful_df = lyrics_df[['artist.name', 'terms']]\n",
    "useful_df.head()"
   ]
  },
  {
   "cell_type": "markdown",
   "metadata": {},
   "source": [
    "Fetch all the genres of the artists on Spotify"
   ]
  },
  {
   "cell_type": "code",
   "execution_count": 65,
   "metadata": {},
   "outputs": [
    {
     "name": "stdout",
     "output_type": "stream",
     "text": [
      "Initial number of artists: 2159\n",
      "0\n",
      "500\n",
      "1000\n",
      "1500\n",
      "2000\n",
      "Number of artists with genres on Spotify: 474\n"
     ]
    }
   ],
   "source": [
    "def get_artist_genres(artist_name):\n",
    "    \"\"\" Fetch on Spotify the genres of the artist\"\"\"\n",
    "    query = sp.search(q='artist:' + artist_name, type='artist')\n",
    "    if len(query['artists']['items']) > 0:\n",
    "        genres = query['artists']['items'][0]['genres'] # list: [\"pop rock\", \"hard rock\", \"alternative rock\"...]\n",
    "        return genres\n",
    "    else:\n",
    "        #print(\"{} not on Spotify\".format(artist_name))\n",
    "        return []\n",
    "\n",
    "    \n",
    "artist_genre = []\n",
    "artists = list(set(useful_df['artist.name']))\n",
    "\n",
    "print(\"Initial number of artists: {}\".format(len(artists)))\n",
    "for i, artist in enumerate(artists):\n",
    "    if i % 500 == 0:\n",
    "        print(i)\n",
    "    genres = get_artist_genres(artist)\n",
    "    if len(genres) > 0:\n",
    "        artist_genre.append([artist, genres])\n",
    "print(\"Number of artists with genres on Spotify: {}\".format(len(artist_genre)))"
   ]
  },
  {
   "cell_type": "code",
   "execution_count": 3,
   "metadata": {},
   "outputs": [
    {
     "data": {
      "text/html": [
       "<div>\n",
       "<style scoped>\n",
       "    .dataframe tbody tr th:only-of-type {\n",
       "        vertical-align: middle;\n",
       "    }\n",
       "\n",
       "    .dataframe tbody tr th {\n",
       "        vertical-align: top;\n",
       "    }\n",
       "\n",
       "    .dataframe thead th {\n",
       "        text-align: right;\n",
       "    }\n",
       "</style>\n",
       "<table border=\"1\" class=\"dataframe\">\n",
       "  <thead>\n",
       "    <tr style=\"text-align: right;\">\n",
       "      <th></th>\n",
       "      <th>Unnamed: 0</th>\n",
       "      <th>artist</th>\n",
       "      <th>genre</th>\n",
       "    </tr>\n",
       "  </thead>\n",
       "  <tbody>\n",
       "    <tr>\n",
       "      <th>0</th>\n",
       "      <td>0</td>\n",
       "      <td>Black Eyed Peas</td>\n",
       "      <td>['dance pop', 'pop', 'pop rap']</td>\n",
       "    </tr>\n",
       "    <tr>\n",
       "      <th>1</th>\n",
       "      <td>1</td>\n",
       "      <td>Jimmy Hughes</td>\n",
       "      <td>['southern soul']</td>\n",
       "    </tr>\n",
       "    <tr>\n",
       "      <th>2</th>\n",
       "      <td>2</td>\n",
       "      <td>Joy Division</td>\n",
       "      <td>['alternative rock', 'art rock', 'dance rock',...</td>\n",
       "    </tr>\n",
       "    <tr>\n",
       "      <th>3</th>\n",
       "      <td>3</td>\n",
       "      <td>Mint Condition</td>\n",
       "      <td>['dance pop', 'funk', 'hip pop', 'neo soul', '...</td>\n",
       "    </tr>\n",
       "    <tr>\n",
       "      <th>4</th>\n",
       "      <td>4</td>\n",
       "      <td>Plump DJs</td>\n",
       "      <td>['big beat', 'breakbeat', 'electronic', 'nu sk...</td>\n",
       "    </tr>\n",
       "  </tbody>\n",
       "</table>\n",
       "</div>"
      ],
      "text/plain": [
       "   Unnamed: 0           artist  \\\n",
       "0           0  Black Eyed Peas   \n",
       "1           1     Jimmy Hughes   \n",
       "2           2     Joy Division   \n",
       "3           3   Mint Condition   \n",
       "4           4        Plump DJs   \n",
       "\n",
       "                                               genre  \n",
       "0                    ['dance pop', 'pop', 'pop rap']  \n",
       "1                                  ['southern soul']  \n",
       "2  ['alternative rock', 'art rock', 'dance rock',...  \n",
       "3  ['dance pop', 'funk', 'hip pop', 'neo soul', '...  \n",
       "4  ['big beat', 'breakbeat', 'electronic', 'nu sk...  "
      ]
     },
     "execution_count": 3,
     "metadata": {},
     "output_type": "execute_result"
    }
   ],
   "source": [
    "artist_genres_df = pd.DataFrame(artist_genre, columns = {'artist', 'genre'})\n",
    "artist_genres_df.head()"
   ]
  },
  {
   "cell_type": "markdown",
   "metadata": {},
   "source": [
    "Careful with the save as it overrides the actual file, thus I commented the line"
   ]
  },
  {
   "cell_type": "code",
   "execution_count": 71,
   "metadata": {},
   "outputs": [],
   "source": [
    "# Save the genres:\n",
    "# artist_genres_df.to_csv(\"../kaggleDataset/artist_genre.csv\", sep=';')"
   ]
  },
  {
   "cell_type": "code",
   "execution_count": 7,
   "metadata": {},
   "outputs": [
    {
     "name": "stdout",
     "output_type": "stream",
     "text": [
      "10000\n",
      "Artist Bill & Gloria Gaither, found genre: ccm, actual genre: country gospel\n",
      "Artist Bill & Gloria Gaither, found genre: ccm, actual genre: country gospel\n",
      "Artist Bert Kaempfert And His Orchestra, found genre: orchestra, actual genre: easy listening\n",
      "Artist Bill & Gloria Gaither, found genre: ccm, actual genre: country gospel\n",
      "Artist Bill & Gloria Gaither, found genre: ccm, actual genre: southern gospel\n",
      "Artist Margaret Becker, found genre: ccm, actual genre: reggae\n",
      "Artist Bill & Gloria Gaither, found genre: ccm, actual genre: country gospel\n",
      "Artist Twinkle Twinkle Little Rock Star, found genre: nan, actual genre: nan\n",
      "Artist John Hammond, found genre: blues, actual genre: blues-rock\n",
      "Artist fIREHOSE, found genre: alternative rock, actual genre: glam metal\n",
      "Artist Bill & Gloria Gaither, found genre: ccm, actual genre: country gospel\n",
      "Artist Bill & Gloria Gaither, found genre: ccm, actual genre: country gospel\n",
      "Artist The Plasmatics, found genre: trip hop, actual genre: riot grrrl\n",
      "Artist Cocoa Tea, found genre: dancehall, actual genre: roots reggae\n",
      "Artist Billy Price_ Fred Chapellier, found genre: blues, actual genre: blues-rock\n",
      "Artist Frank Chacksfield, found genre: orchestra, actual genre: space age pop\n",
      "Artist Joe Turner, found genre: jump blues, actual genre: hard rock\n",
      "Artist Suzi Quatro, found genre: glam rock, actual genre: chanson\n",
      "Artist fIREHOSE, found genre: alternative rock, actual genre: glam metal\n",
      "Artist Art Ensemble Of Chicago, found genre: free jazz, actual genre: country rock\n",
      "Artist JK, found genre: eurodance, actual genre: dance music\n",
      "Artist Harry Connick_ Jr., found genre: jazz, actual genre: rock\n",
      "Artist 2-Gether feat. Sarinah, found genre: progressive house, actual genre: boy band\n",
      "Artist Bill & Gloria Gaither, found genre: ccm, actual genre: country gospel\n",
      "Artist Bill & Gloria Gaither, found genre: ccm, actual genre: country gospel\n",
      "Artist Bill & Gloria Gaither, found genre: ccm, actual genre: country gospel\n",
      "Artist Eddie Palmieri, found genre: salsa, actual genre: latin jazz\n",
      "Artist Vivian, found genre: happy hardcore, actual genre: blues-rock\n",
      "Artist Dylan Kuo, found genre: nan, actual genre: nan\n",
      "Artist Free, found genre: blues-rock, actual genre: lovers rock\n"
     ]
    }
   ],
   "source": [
    "useful_df = lyrics_df[['artist.name', 'terms']]\n",
    "artist_genre_dict = {}\n",
    "print(len(useful_df))\n",
    "\n",
    "# Create d ictionary from the Dataframe\n",
    "for i, row in useful_df.iterrows():\n",
    "    artist = row['artist.name']\n",
    "    genre = row['terms']\n",
    "    if artist not in artist_genre_dict.keys():\n",
    "        artist_genre_dict[artist] = genre\n",
    "    else:\n",
    "        found_genre = artist_genre_dict[artist]\n",
    "        if found_genre != genre:\n",
    "            print(\"Artist {}, found genre: {}, actual genre: {}\".format(artist, found_genre, genre))\n",
    "            # What to do ?"
   ]
  },
  {
   "cell_type": "markdown",
   "metadata": {},
   "source": [
    "### Getting one specific genre per artist: "
   ]
  },
  {
   "cell_type": "markdown",
   "metadata": {},
   "source": [
    "Given the artists genres obtained from Spotify, we want to reduce the large amount of genre possibilities provided by Spotify to only a few interesting ones such as pop, rock..."
   ]
  },
  {
   "cell_type": "code",
   "execution_count": 76,
   "metadata": {},
   "outputs": [
    {
     "data": {
      "text/html": [
       "<div>\n",
       "<style scoped>\n",
       "    .dataframe tbody tr th:only-of-type {\n",
       "        vertical-align: middle;\n",
       "    }\n",
       "\n",
       "    .dataframe tbody tr th {\n",
       "        vertical-align: top;\n",
       "    }\n",
       "\n",
       "    .dataframe thead th {\n",
       "        text-align: right;\n",
       "    }\n",
       "</style>\n",
       "<table border=\"1\" class=\"dataframe\">\n",
       "  <thead>\n",
       "    <tr style=\"text-align: right;\">\n",
       "      <th></th>\n",
       "      <th>artist</th>\n",
       "      <th>genre</th>\n",
       "    </tr>\n",
       "  </thead>\n",
       "  <tbody>\n",
       "    <tr>\n",
       "      <th>0</th>\n",
       "      <td>Black Eyed Peas</td>\n",
       "      <td>['dance pop', 'pop', 'pop rap']</td>\n",
       "    </tr>\n",
       "    <tr>\n",
       "      <th>1</th>\n",
       "      <td>Jimmy Hughes</td>\n",
       "      <td>['southern soul']</td>\n",
       "    </tr>\n",
       "    <tr>\n",
       "      <th>2</th>\n",
       "      <td>Joy Division</td>\n",
       "      <td>['alternative rock', 'art rock', 'dance rock',...</td>\n",
       "    </tr>\n",
       "    <tr>\n",
       "      <th>3</th>\n",
       "      <td>Mint Condition</td>\n",
       "      <td>['dance pop', 'funk', 'hip pop', 'neo soul', '...</td>\n",
       "    </tr>\n",
       "    <tr>\n",
       "      <th>4</th>\n",
       "      <td>Plump DJs</td>\n",
       "      <td>['big beat', 'breakbeat', 'electronic', 'nu sk...</td>\n",
       "    </tr>\n",
       "  </tbody>\n",
       "</table>\n",
       "</div>"
      ],
      "text/plain": [
       "            artist                                              genre\n",
       "0  Black Eyed Peas                    ['dance pop', 'pop', 'pop rap']\n",
       "1     Jimmy Hughes                                  ['southern soul']\n",
       "2     Joy Division  ['alternative rock', 'art rock', 'dance rock',...\n",
       "3   Mint Condition  ['dance pop', 'funk', 'hip pop', 'neo soul', '...\n",
       "4        Plump DJs  ['big beat', 'breakbeat', 'electronic', 'nu sk..."
      ]
     },
     "execution_count": 76,
     "metadata": {},
     "output_type": "execute_result"
    }
   ],
   "source": [
    "MAIN_GENRES = {'rap', 'metal', 'rock', 'pop', 'blues'}\n",
    "\n",
    "artist_path = \"../kaggleDataset/artist_genre.csv\"\n",
    "artist_genres_df = pd.read_csv(artist_path, sep = ';', usecols = [\"artist\", \"genre\"])\n",
    "artist_genres_df.head() # The genre field is a string and not a list"
   ]
  },
  {
   "cell_type": "markdown",
   "metadata": {},
   "source": [
    "For each artist, we will now convert all the genres of Spotify to a unique one from our MAIN GENRES. \n",
    "For instance, Black Eyed Peas is categorised to be: dance pop, pop, pop rap from Spotify. We see that the term pop appears the most and he is one of our MAIN GENRES. Thus we will categorize Black Eed Peas genre as pop.\n",
    "\n",
    "##### Careful: if the MAIN GENRES set changes, the artist genre might change too !  "
   ]
  },
  {
   "cell_type": "code",
   "execution_count": 77,
   "metadata": {},
   "outputs": [],
   "source": [
    "def get_main_genre(genres, main_genres = MAIN_GENRES):\n",
    "    \"\"\" Count occurences of main genres terms in the genres string\"\"\"\n",
    "    main_genres_occ = [(g, len(re.findall(g, genres))) for g in main_genres if len(re.findall(g, genres)) > 0] # list: [(rock, 3), (pop, 1), (hard, 1)...]\n",
    "    \n",
    "    if len(main_genres_occ) > 0:\n",
    "        max_genre = sorted(main_genres_occ, key = lambda x: x[1], reverse = True)[0][0]\n",
    "        return max_genre\n",
    "    else:\n",
    "        return \"No main genre\""
   ]
  },
  {
   "cell_type": "code",
   "execution_count": 78,
   "metadata": {},
   "outputs": [
    {
     "data": {
      "text/html": [
       "<div>\n",
       "<style scoped>\n",
       "    .dataframe tbody tr th:only-of-type {\n",
       "        vertical-align: middle;\n",
       "    }\n",
       "\n",
       "    .dataframe tbody tr th {\n",
       "        vertical-align: top;\n",
       "    }\n",
       "\n",
       "    .dataframe thead th {\n",
       "        text-align: right;\n",
       "    }\n",
       "</style>\n",
       "<table border=\"1\" class=\"dataframe\">\n",
       "  <thead>\n",
       "    <tr style=\"text-align: right;\">\n",
       "      <th></th>\n",
       "      <th>artist</th>\n",
       "      <th>genre</th>\n",
       "      <th>main genre</th>\n",
       "    </tr>\n",
       "  </thead>\n",
       "  <tbody>\n",
       "    <tr>\n",
       "      <th>0</th>\n",
       "      <td>Black Eyed Peas</td>\n",
       "      <td>['dance pop', 'pop', 'pop rap']</td>\n",
       "      <td>pop</td>\n",
       "    </tr>\n",
       "    <tr>\n",
       "      <th>1</th>\n",
       "      <td>Jimmy Hughes</td>\n",
       "      <td>['southern soul']</td>\n",
       "      <td>No main genre</td>\n",
       "    </tr>\n",
       "    <tr>\n",
       "      <th>2</th>\n",
       "      <td>Joy Division</td>\n",
       "      <td>['alternative rock', 'art rock', 'dance rock',...</td>\n",
       "      <td>rock</td>\n",
       "    </tr>\n",
       "    <tr>\n",
       "      <th>3</th>\n",
       "      <td>Mint Condition</td>\n",
       "      <td>['dance pop', 'funk', 'hip pop', 'neo soul', '...</td>\n",
       "      <td>pop</td>\n",
       "    </tr>\n",
       "    <tr>\n",
       "      <th>4</th>\n",
       "      <td>Plump DJs</td>\n",
       "      <td>['big beat', 'breakbeat', 'electronic', 'nu sk...</td>\n",
       "      <td>No main genre</td>\n",
       "    </tr>\n",
       "  </tbody>\n",
       "</table>\n",
       "</div>"
      ],
      "text/plain": [
       "            artist                                              genre  \\\n",
       "0  Black Eyed Peas                    ['dance pop', 'pop', 'pop rap']   \n",
       "1     Jimmy Hughes                                  ['southern soul']   \n",
       "2     Joy Division  ['alternative rock', 'art rock', 'dance rock',...   \n",
       "3   Mint Condition  ['dance pop', 'funk', 'hip pop', 'neo soul', '...   \n",
       "4        Plump DJs  ['big beat', 'breakbeat', 'electronic', 'nu sk...   \n",
       "\n",
       "      main genre  \n",
       "0            pop  \n",
       "1  No main genre  \n",
       "2           rock  \n",
       "3            pop  \n",
       "4  No main genre  "
      ]
     },
     "execution_count": 78,
     "metadata": {},
     "output_type": "execute_result"
    }
   ],
   "source": [
    "simple_genres = []\n",
    "for i, artist_row in artist_genres_df.iterrows():\n",
    "    genres = artist_row['genre']\n",
    "    main_genre = get_main_genre(genres)\n",
    "    simple_genres.append(main_genre)\n",
    "\n",
    "col_name = \"main genre\"\n",
    "if col_name in list(artist_genres_df.columns):\n",
    "    artist_genres_df.drop(col_name, inplace = True)\n",
    "artist_genres_df[col_name] = simple_genres\n",
    "artist_genres_df.head()"
   ]
  },
  {
   "cell_type": "code",
   "execution_count": 80,
   "metadata": {},
   "outputs": [
    {
     "name": "stdout",
     "output_type": "stream",
     "text": [
      "Number of artists: 2727\n",
      "Number of artists with main genre: 1537\n",
      "Ratio: 0.5636230289695636\n"
     ]
    },
    {
     "data": {
      "image/png": "[encoded data removed]",
      "text/plain": [
       "<Figure size 432x288 with 1 Axes>"
      ]
     },
     "metadata": {},
     "output_type": "display_data"
    }
   ],
   "source": [
    "print(\"Number of artists: {}\".format(len(artist_genres_df)))\n",
    "genres_df = artist_genres_df[artist_genres_df[\"main genre\"] != \"No main genre\"]\n",
    "print(\"Number of artists with main genre: {}\".format(len(genres_df)))\n",
    "print(\"Ratio: {}\".format(len(genres_df) / len(artist_genres_df)))\n",
    "\n",
    "n, bins, patches = plt.hist(x = list(genres_df[\"main genre\"]), bins=np.arange(0,len(MAIN_GENRES) + 1), color='orange', align = 'left', alpha=0.7, rwidth=0.5)\n",
    "plt.grid(axis='y', alpha=0.75)\n",
    "plt.xlabel('Genres')\n",
    "plt.ylabel('Number of artists')\n",
    "plt.title('Number of artists with the specific genre')\n",
    "plt.show()"
   ]
  },
  {
   "cell_type": "code",
   "execution_count": 82,
   "metadata": {},
   "outputs": [],
   "source": [
    "# Save the dataframe with main genre in a csv file\n",
    "useful_df = genres_df[[\"artist\", \"main genre\"]]\n",
    "useful_df.to_csv(\"../kaggleDataset/artists_main_genre.csv\", sep=';', index = False)"
   ]
  },
  {
   "cell_type": "code",
   "execution_count": null,
   "metadata": {},
   "outputs": [],
   "source": []
  }
 ],
 "metadata": {
  "kernelspec": {
   "display_name": "Python 3",
   "language": "python",
   "name": "python3"
  },
  "language_info": {
   "codemirror_mode": {
    "name": "ipython",
    "version": 3
   },
   "file_extension": ".py",
   "mimetype": "text/x-python",
   "name": "python",
   "nbconvert_exporter": "python",
   "pygments_lexer": "ipython3",
   "version": "3.6.5"
  }
 },
 "nbformat": 4,
 "nbformat_minor": 2
}
