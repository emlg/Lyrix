{
 "cells": [
  {
   "cell_type": "markdown",
   "metadata": {},
   "source": [
    "Tutorial for the Million Song Dataset\n",
    "\n",
    "by Thierry Bertin-Mahieux (2011) Columbia University\n",
    "   tb2332@columbia.edu\n",
    "   Copyright 2011 T. Bertin-Mahieux, All Rights Reserved\n",
    "\n",
    "This tutorial will walk you through a quick experiment\n",
    "using the Million Song Dataset (MSD). We will actually be working\n",
    "on the 10K songs subset for speed issues, but the code should\n",
    "transpose seamlessly.\n",
    "\n",
    "In this tutorial, we do simple metadata analysis. We look at\n",
    "which artist has the most songs by iterating over the whole\n",
    "dataset and using an SQLite database.\n",
    "\n",
    "You need to have the MSD code downloaded from GITHUB.\n",
    "See the MSD website for details:\n",
    "http://labrosa.ee.columbia.edu/millionsong/\n",
    "\n",
    "If you have any questions regarding the dataset or this tutorial,\n",
    "please first take a look at the website. Send us an email\n",
    "if you haven't found the answer.\n",
    "\n",
    "Note: this tutorial is developed using Python 2.6\n",
    "      on an Ubuntu machine. PDF created using 'pyreport'."
   ]
  },
  {
   "cell_type": "code",
   "execution_count": 1,
   "metadata": {},
   "outputs": [],
   "source": [
    "# usual imports\n",
    "import os\n",
    "import sys\n",
    "import time\n",
    "import glob\n",
    "import datetime\n",
    "import sqlite3\n",
    "import numpy as np # get it at: http://numpy.scipy.org/"
   ]
  },
  {
   "cell_type": "code",
   "execution_count": 2,
   "metadata": {},
   "outputs": [
    {
     "data": {
      "text/plain": [
       "'C:\\\\Users\\\\Olivier\\\\Documents\\\\semestre9\\\\Lyrix'"
      ]
     },
     "execution_count": 2,
     "metadata": {},
     "output_type": "execute_result"
    }
   ],
   "source": [
    "os.getcwd()"
   ]
  },
  {
   "cell_type": "code",
   "execution_count": 13,
   "metadata": {},
   "outputs": [
    {
     "data": {
      "text/plain": [
       "True"
      ]
     },
     "execution_count": 13,
     "metadata": {},
     "output_type": "execute_result"
    }
   ],
   "source": [
    "msd_subset_path='C:\\\\Users\\\\Olivier\\\\Documents\\\\semestre9\\\\Lyrix\\\\MillionSongSubset'\n",
    "#msd_subset_path='/Users/emma/Cours/Sem 3/Lyrix/MillionSongSubset'\n",
    "os.path.isdir(msd_subset_path)\n",
    "#os.path.isdir('/Users/emma/Cours/Sem 3/Lyrix/MillionSongSubset')"
   ]
  },
  {
   "cell_type": "code",
   "execution_count": 14,
   "metadata": {},
   "outputs": [],
   "source": [
    "# path to the Million Song Dataset subset (uncompressed)\n",
    "# CHANGE IT TO YOUR LOCAL CONFIGURATION\n",
    "#msd_subset_path='/Users/emma/Cours/Sem 3/Lyrix/MillionSongSubset'\n",
    "msd_subset_data_path=os.path.join(msd_subset_path,'data')\n",
    "msd_subset_addf_path=os.path.join(msd_subset_path,'AdditionalFiles')\n",
    "assert os.path.isdir(msd_subset_path),'wrong path' # sanity check"
   ]
  },
  {
   "cell_type": "code",
   "execution_count": 6,
   "metadata": {},
   "outputs": [],
   "source": [
    "# imports specific to the MSD\n",
    "import hdf5_getters as GETTERS"
   ]
  },
  {
   "cell_type": "code",
   "execution_count": 15,
   "metadata": {},
   "outputs": [
    {
     "name": "stdout",
     "output_type": "stream",
     "text": [
      "number of song files: 10000\n"
     ]
    }
   ],
   "source": [
    "# the following function simply gives us a nice string for\n",
    "# a time lag in seconds\n",
    "def strtimedelta(starttime,stoptime):\n",
    "    return str(datetime.timedelta(seconds=stoptime-starttime))\n",
    "\n",
    "# we define this very useful function to iterate the files\n",
    "def apply_to_all_files(basedir,func=lambda x: x,ext='.h5'):\n",
    "    \"\"\"\n",
    "    From a base directory, go through all subdirectories,\n",
    "    find all files with the given extension, apply the\n",
    "    given function 'func' to all of them.\n",
    "    If no 'func' is passed, we do nothing except counting.\n",
    "    INPUT\n",
    "       basedir  - base directory of the dataset\n",
    "       func     - function to apply to all filenames\n",
    "       ext      - extension, .h5 by default\n",
    "    RETURN\n",
    "       number of files\n",
    "    \"\"\"\n",
    "    cnt = 0\n",
    "    # iterate over all files in all subdirectories\n",
    "    for root, dirs, files in os.walk(basedir):\n",
    "        files = glob.glob(os.path.join(root,'*'+ext))\n",
    "        # count files\n",
    "        cnt += len(files)\n",
    "        # apply function to all files\n",
    "        for f in files :\n",
    "            func(f)       \n",
    "    return cnt\n",
    "\n",
    "# we can now easily count the number of files in the dataset\n",
    "print('number of song files:',apply_to_all_files(msd_subset_data_path))"
   ]
  },
  {
   "cell_type": "code",
   "execution_count": 9,
   "metadata": {},
   "outputs": [],
   "source": [
    "from tables import *"
   ]
  },
  {
   "cell_type": "code",
   "execution_count": 16,
   "metadata": {},
   "outputs": [
    {
     "name": "stdout",
     "output_type": "stream",
     "text": [
      "b'Casual'\n"
     ]
    }
   ],
   "source": [
    "h5 = open_file(\"MillionSongSubset/data/A/A/A/TRAAAAW128F429D538.h5\")\n",
    "artist_name = GETTERS.get_artist_name(h5)\n",
    "print(artist_name)\n",
    "h5.close()"
   ]
  },
  {
   "cell_type": "code",
   "execution_count": 18,
   "metadata": {},
   "outputs": [
    {
     "name": "stdout",
     "output_type": "stream",
     "text": [
      "ok\n",
      "all artist names extracted in: 0:02:54.932207\n"
     ]
    }
   ],
   "source": [
    "# let's now get all artist names in a set(). One nice property:\n",
    "# if we enter many times the same artist, only one will be kept.\n",
    "all_artist_names = set()\n",
    "\n",
    "# we define the function to apply to all files\n",
    "def func_to_get_artist_name(filename):\n",
    "    \"\"\"\n",
    "    This function does 3 simple things:\n",
    "    - open the song file\n",
    "    - get artist ID and put it\n",
    "    - close the file\n",
    "    \"\"\"\n",
    "    h5 = open_file(filename)\n",
    "    artist_name = GETTERS.get_artist_name(h5)\n",
    "    all_artist_names.add(artist_name)\n",
    "    h5.close()\n",
    "    \n",
    "# let's apply the previous function to all files\n",
    "# we'll also measure how long it takes\n",
    "t1 = time.time()\n",
    "apply_to_all_files(msd_subset_data_path,func=func_to_get_artist_name)\n",
    "t2 = time.time()\n",
    "print('all artist names extracted in:',strtimedelta(t1,t2))"
   ]
  },
  {
   "cell_type": "code",
   "execution_count": 19,
   "metadata": {},
   "outputs": [
    {
     "name": "stdout",
     "output_type": "stream",
     "text": [
      "found 4412 unique artist names\n",
      "b'SWAMI featuring Ishmael Morabe'\n",
      "b'N.E.R.D.'\n",
      "b'Converge'\n",
      "b'Siouxsie'\n",
      "b'Ramesses'\n"
     ]
    }
   ],
   "source": [
    "# let's see some of the content of 'all_artist_names'\n",
    "print ('found',len(all_artist_names),'unique artist names')\n",
    "for k in range(5):\n",
    "    print(list(all_artist_names)[k])"
   ]
  },
  {
   "cell_type": "code",
   "execution_count": 20,
   "metadata": {},
   "outputs": [
    {
     "data": {
      "text/plain": [
       "File(filename=MillionSongSubset/data/A/A/A/TRAAAAW128F429D538.h5, title='H5 Song File', mode='r', root_uep='/', filters=Filters(complevel=1, complib='zlib', shuffle=True, bitshuffle=False, fletcher32=False, least_significant_digit=None))\n",
       "/ (RootGroup) 'H5 Song File'\n",
       "/analysis (Group) 'Echo Nest analysis of the song'\n",
       "/analysis/bars_confidence (EArray(83,), shuffle, zlib(1)) 'array of confidence of bars'\n",
       "  atom := Float64Atom(shape=(), dflt=0.0)\n",
       "  maindim := 0\n",
       "  flavor := 'numpy'\n",
       "  byteorder := 'little'\n",
       "  chunkshape := (1024,)\n",
       "/analysis/bars_start (EArray(83,), shuffle, zlib(1)) 'array of start times of bars'\n",
       "  atom := Float64Atom(shape=(), dflt=0.0)\n",
       "  maindim := 0\n",
       "  flavor := 'numpy'\n",
       "  byteorder := 'little'\n",
       "  chunkshape := (1024,)\n",
       "/analysis/beats_confidence (EArray(344,), shuffle, zlib(1)) 'array of confidence of sections'\n",
       "  atom := Float64Atom(shape=(), dflt=0.0)\n",
       "  maindim := 0\n",
       "  flavor := 'numpy'\n",
       "  byteorder := 'little'\n",
       "  chunkshape := (1024,)\n",
       "/analysis/beats_start (EArray(344,), shuffle, zlib(1)) 'array of start times of beats'\n",
       "  atom := Float64Atom(shape=(), dflt=0.0)\n",
       "  maindim := 0\n",
       "  flavor := 'numpy'\n",
       "  byteorder := 'little'\n",
       "  chunkshape := (1024,)\n",
       "/analysis/sections_confidence (EArray(10,), shuffle, zlib(1)) 'array of confidence of sections'\n",
       "  atom := Float64Atom(shape=(), dflt=0.0)\n",
       "  maindim := 0\n",
       "  flavor := 'numpy'\n",
       "  byteorder := 'little'\n",
       "  chunkshape := (1024,)\n",
       "/analysis/sections_start (EArray(10,), shuffle, zlib(1)) 'array of start times of sections'\n",
       "  atom := Float64Atom(shape=(), dflt=0.0)\n",
       "  maindim := 0\n",
       "  flavor := 'numpy'\n",
       "  byteorder := 'little'\n",
       "  chunkshape := (1024,)\n",
       "/analysis/segments_confidence (EArray(971,), shuffle, zlib(1)) 'array of confidence of segments'\n",
       "  atom := Float64Atom(shape=(), dflt=0.0)\n",
       "  maindim := 0\n",
       "  flavor := 'numpy'\n",
       "  byteorder := 'little'\n",
       "  chunkshape := (1024,)\n",
       "/analysis/segments_loudness_max (EArray(971,), shuffle, zlib(1)) 'array of max loudness of segments'\n",
       "  atom := Float64Atom(shape=(), dflt=0.0)\n",
       "  maindim := 0\n",
       "  flavor := 'numpy'\n",
       "  byteorder := 'little'\n",
       "  chunkshape := (1024,)\n",
       "/analysis/segments_loudness_max_time (EArray(971,), shuffle, zlib(1)) 'array of max loudness time of segments'\n",
       "  atom := Float64Atom(shape=(), dflt=0.0)\n",
       "  maindim := 0\n",
       "  flavor := 'numpy'\n",
       "  byteorder := 'little'\n",
       "  chunkshape := (1024,)\n",
       "/analysis/segments_loudness_start (EArray(971,), shuffle, zlib(1)) 'array of loudness of segments at start time'\n",
       "  atom := Float64Atom(shape=(), dflt=0.0)\n",
       "  maindim := 0\n",
       "  flavor := 'numpy'\n",
       "  byteorder := 'little'\n",
       "  chunkshape := (1024,)\n",
       "/analysis/segments_pitches (EArray(971, 12), shuffle, zlib(1)) 'array of pitches of segments (chromas)'\n",
       "  atom := Float64Atom(shape=(), dflt=0.0)\n",
       "  maindim := 0\n",
       "  flavor := 'numpy'\n",
       "  byteorder := 'little'\n",
       "  chunkshape := (85, 12)\n",
       "/analysis/segments_start (EArray(971,), shuffle, zlib(1)) 'array of start times of segments'\n",
       "  atom := Float64Atom(shape=(), dflt=0.0)\n",
       "  maindim := 0\n",
       "  flavor := 'numpy'\n",
       "  byteorder := 'little'\n",
       "  chunkshape := (1024,)\n",
       "/analysis/segments_timbre (EArray(971, 12), shuffle, zlib(1)) 'array of timbre of segments (MFCC-like)'\n",
       "  atom := Float64Atom(shape=(), dflt=0.0)\n",
       "  maindim := 0\n",
       "  flavor := 'numpy'\n",
       "  byteorder := 'little'\n",
       "  chunkshape := (85, 12)\n",
       "/analysis/songs (Table(1,), shuffle, zlib(1)) 'table of Echo Nest analysis for one song'\n",
       "  description := {\n",
       "  \"analysis_sample_rate\": Int32Col(shape=(), dflt=0, pos=0),\n",
       "  \"audio_md5\": StringCol(itemsize=32, shape=(), dflt=b'', pos=1),\n",
       "  \"danceability\": Float64Col(shape=(), dflt=0.0, pos=2),\n",
       "  \"duration\": Float64Col(shape=(), dflt=0.0, pos=3),\n",
       "  \"end_of_fade_in\": Float64Col(shape=(), dflt=0.0, pos=4),\n",
       "  \"energy\": Float64Col(shape=(), dflt=0.0, pos=5),\n",
       "  \"idx_bars_confidence\": Int32Col(shape=(), dflt=0, pos=6),\n",
       "  \"idx_bars_start\": Int32Col(shape=(), dflt=0, pos=7),\n",
       "  \"idx_beats_confidence\": Int32Col(shape=(), dflt=0, pos=8),\n",
       "  \"idx_beats_start\": Int32Col(shape=(), dflt=0, pos=9),\n",
       "  \"idx_sections_confidence\": Int32Col(shape=(), dflt=0, pos=10),\n",
       "  \"idx_sections_start\": Int32Col(shape=(), dflt=0, pos=11),\n",
       "  \"idx_segments_confidence\": Int32Col(shape=(), dflt=0, pos=12),\n",
       "  \"idx_segments_loudness_max\": Int32Col(shape=(), dflt=0, pos=13),\n",
       "  \"idx_segments_loudness_max_time\": Int32Col(shape=(), dflt=0, pos=14),\n",
       "  \"idx_segments_loudness_start\": Int32Col(shape=(), dflt=0, pos=15),\n",
       "  \"idx_segments_pitches\": Int32Col(shape=(), dflt=0, pos=16),\n",
       "  \"idx_segments_start\": Int32Col(shape=(), dflt=0, pos=17),\n",
       "  \"idx_segments_timbre\": Int32Col(shape=(), dflt=0, pos=18),\n",
       "  \"idx_tatums_confidence\": Int32Col(shape=(), dflt=0, pos=19),\n",
       "  \"idx_tatums_start\": Int32Col(shape=(), dflt=0, pos=20),\n",
       "  \"key\": Int32Col(shape=(), dflt=0, pos=21),\n",
       "  \"key_confidence\": Float64Col(shape=(), dflt=0.0, pos=22),\n",
       "  \"loudness\": Float64Col(shape=(), dflt=0.0, pos=23),\n",
       "  \"mode\": Int32Col(shape=(), dflt=0, pos=24),\n",
       "  \"mode_confidence\": Float64Col(shape=(), dflt=0.0, pos=25),\n",
       "  \"start_of_fade_out\": Float64Col(shape=(), dflt=0.0, pos=26),\n",
       "  \"tempo\": Float64Col(shape=(), dflt=0.0, pos=27),\n",
       "  \"time_signature\": Int32Col(shape=(), dflt=0, pos=28),\n",
       "  \"time_signature_confidence\": Float64Col(shape=(), dflt=0.0, pos=29),\n",
       "  \"track_id\": StringCol(itemsize=32, shape=(), dflt=b'', pos=30)}\n",
       "  byteorder := 'little'\n",
       "  chunkshape := (37,)\n",
       "/analysis/tatums_confidence (EArray(688,), shuffle, zlib(1)) 'array of confidence of tatums'\n",
       "  atom := Float64Atom(shape=(), dflt=0.0)\n",
       "  maindim := 0\n",
       "  flavor := 'numpy'\n",
       "  byteorder := 'little'\n",
       "  chunkshape := (1024,)\n",
       "/analysis/tatums_start (EArray(688,), shuffle, zlib(1)) 'array of start times of tatums'\n",
       "  atom := Float64Atom(shape=(), dflt=0.0)\n",
       "  maindim := 0\n",
       "  flavor := 'numpy'\n",
       "  byteorder := 'little'\n",
       "  chunkshape := (1024,)\n",
       "/metadata (Group) 'metadata about the song'\n",
       "/metadata/artist_terms (EArray(37,), shuffle, zlib(1)) 'array of terms (Echo Nest tags) for an artist'\n",
       "  atom := StringAtom(itemsize=256, shape=(), dflt=b'')\n",
       "  maindim := 0\n",
       "  flavor := 'numpy'\n",
       "  byteorder := 'irrelevant'\n",
       "  chunkshape := (32,)\n",
       "/metadata/artist_terms_freq (EArray(37,), shuffle, zlib(1)) 'array of term (Echo Nest tags) frequencies for an artist'\n",
       "  atom := Float64Atom(shape=(), dflt=0.0)\n",
       "  maindim := 0\n",
       "  flavor := 'numpy'\n",
       "  byteorder := 'little'\n",
       "  chunkshape := (1024,)\n",
       "/metadata/artist_terms_weight (EArray(37,), shuffle, zlib(1)) 'array of term (Echo Nest tags) weights for an artist'\n",
       "  atom := Float64Atom(shape=(), dflt=0.0)\n",
       "  maindim := 0\n",
       "  flavor := 'numpy'\n",
       "  byteorder := 'little'\n",
       "  chunkshape := (1024,)\n",
       "/metadata/similar_artists (EArray(100,), shuffle, zlib(1)) 'array of similar artists Echo Nest id'\n",
       "  atom := StringAtom(itemsize=20, shape=(), dflt=b'')\n",
       "  maindim := 0\n",
       "  flavor := 'numpy'\n",
       "  byteorder := 'irrelevant'\n",
       "  chunkshape := (409,)\n",
       "/metadata/songs (Table(1,), shuffle, zlib(1)) 'table of metadata for one song'\n",
       "  description := {\n",
       "  \"analyzer_version\": StringCol(itemsize=32, shape=(), dflt=b'', pos=0),\n",
       "  \"artist_7digitalid\": Int32Col(shape=(), dflt=0, pos=1),\n",
       "  \"artist_familiarity\": Float64Col(shape=(), dflt=0.0, pos=2),\n",
       "  \"artist_hotttnesss\": Float64Col(shape=(), dflt=0.0, pos=3),\n",
       "  \"artist_id\": StringCol(itemsize=32, shape=(), dflt=b'', pos=4),\n",
       "  \"artist_latitude\": Float64Col(shape=(), dflt=0.0, pos=5),\n",
       "  \"artist_location\": StringCol(itemsize=1024, shape=(), dflt=b'', pos=6),\n",
       "  \"artist_longitude\": Float64Col(shape=(), dflt=0.0, pos=7),\n",
       "  \"artist_mbid\": StringCol(itemsize=40, shape=(), dflt=b'', pos=8),\n",
       "  \"artist_name\": StringCol(itemsize=1024, shape=(), dflt=b'', pos=9),\n",
       "  \"artist_playmeid\": Int32Col(shape=(), dflt=0, pos=10),\n",
       "  \"genre\": StringCol(itemsize=1024, shape=(), dflt=b'', pos=11),\n",
       "  \"idx_artist_terms\": Int32Col(shape=(), dflt=0, pos=12),\n",
       "  \"idx_similar_artists\": Int32Col(shape=(), dflt=0, pos=13),\n",
       "  \"release\": StringCol(itemsize=1024, shape=(), dflt=b'', pos=14),\n",
       "  \"release_7digitalid\": Int32Col(shape=(), dflt=0, pos=15),\n",
       "  \"song_hotttnesss\": Float64Col(shape=(), dflt=0.0, pos=16),\n",
       "  \"song_id\": StringCol(itemsize=32, shape=(), dflt=b'', pos=17),\n",
       "  \"title\": StringCol(itemsize=1024, shape=(), dflt=b'', pos=18),\n",
       "  \"track_7digitalid\": Int32Col(shape=(), dflt=0, pos=19)}\n",
       "  byteorder := 'little'\n",
       "  chunkshape := (3,)\n",
       "/musicbrainz (Group) 'data about the song coming from MusicBrainz'\n",
       "/musicbrainz/artist_mbtags (EArray(0,), shuffle, zlib(1)) 'array of tags from MusicBrainz for an artist'\n",
       "  atom := StringAtom(itemsize=256, shape=(), dflt=b'')\n",
       "  maindim := 0\n",
       "  flavor := 'numpy'\n",
       "  byteorder := 'irrelevant'\n",
       "  chunkshape := (32,)\n",
       "/musicbrainz/artist_mbtags_count (EArray(0,), shuffle, zlib(1)) 'array of tag counts from MusicBrainz for an artist'\n",
       "  atom := Int32Atom(shape=(), dflt=0)\n",
       "  maindim := 0\n",
       "  flavor := 'numpy'\n",
       "  byteorder := 'little'\n",
       "  chunkshape := (2048,)\n",
       "/musicbrainz/songs (Table(1,), shuffle, zlib(1)) 'table of data coming from MusicBrainz'\n",
       "  description := {\n",
       "  \"idx_artist_mbtags\": Int32Col(shape=(), dflt=0, pos=0),\n",
       "  \"year\": Int32Col(shape=(), dflt=0, pos=1)}\n",
       "  byteorder := 'little'\n",
       "  chunkshape := (1024,)"
      ]
     },
     "execution_count": 20,
     "metadata": {},
     "output_type": "execute_result"
    }
   ],
   "source": [
    "open_file(\"MillionSongSubset/data/A/A/A/TRAAAAW128F429D538.h5\")"
   ]
  },
  {
   "cell_type": "code",
   "execution_count": 21,
   "metadata": {},
   "outputs": [],
   "source": [
    "# this is too long, and the work of listing artist names has already\n",
    "# been done. Let's redo the same task using an SQLite database.\n",
    "# We connect to the provided database: track_metadata.db\n",
    "conn = sqlite3.connect(os.path.join(msd_subset_addf_path,\n",
    "                                    'subset_track_metadata.db'))"
   ]
  },
  {
   "cell_type": "code",
   "execution_count": 22,
   "metadata": {
    "scrolled": true
   },
   "outputs": [
    {
     "name": "stdout",
     "output_type": "stream",
     "text": [
      "all artist names extracted (SQLite) in: 0:00:00.305730\n",
      "!!!\n",
      "(hed) p.e.\n",
      "089 Clique feat. Minnesota Snipe & Skinny Cueball\n",
      "089 Clique feat. Prophet\n",
      "1. Futurologischer Congress\n"
     ]
    }
   ],
   "source": [
    "# we build the SQL query\n",
    "q = \"SELECT DISTINCT artist_name FROM songs\"\n",
    "# we query the database\n",
    "t1 = time.time()\n",
    "res = conn.execute(q)\n",
    "all_artist_names_sqlite = res.fetchall()\n",
    "t2 = time.time()\n",
    "print ('all artist names extracted (SQLite) in:',strtimedelta(t1,t2))\n",
    "# we close the connection to the database\n",
    "conn.close()\n",
    "# let's see some of the content\n",
    "for k in range(5):\n",
    "    print(all_artist_names_sqlite[k][0])"
   ]
  },
  {
   "cell_type": "code",
   "execution_count": 23,
   "metadata": {},
   "outputs": [],
   "source": [
    "# now, let's find the artist that has the most songs in the dataset\n",
    "# what we want to work with is artist ID, not artist names. Some artists\n",
    "# have many names, usually because the song is \"featuring someone else\"\n",
    "conn = sqlite3.connect(os.path.join(msd_subset_addf_path,\n",
    "                                    'subset_track_metadata.db'))\n",
    "q = \"SELECT DISTINCT artist_id FROM songs\"\n",
    "res = conn.execute(q)\n",
    "all_artist_ids = list(map(lambda x: x[0], res.fetchall()))\n",
    "conn.close()"
   ]
  },
  {
   "cell_type": "code",
   "execution_count": 24,
   "metadata": {},
   "outputs": [
    {
     "name": "stdout",
     "output_type": "stream",
     "text": [
      "AR009211187B989185\n",
      "AR00A6H1187FB5402A\n",
      "AR00LNI1187FB444A5\n",
      "AR00MBZ1187B9B5DB1\n"
     ]
    }
   ],
   "source": [
    "# The Echo Nest artist id look like:\n",
    "for k in range(4):\n",
    "    print(all_artist_ids[k])"
   ]
  },
  {
   "cell_type": "code",
   "execution_count": 25,
   "metadata": {},
   "outputs": [],
   "source": [
    "# let's count the songs from each of these artists.\n",
    "# We will do it first by iterating over the dataset.\n",
    "# we prepare a dictionary to count files\n",
    "files_per_artist = {}\n",
    "for aid in all_artist_ids:\n",
    "    files_per_artist[aid] = 0"
   ]
  },
  {
   "cell_type": "code",
   "execution_count": 26,
   "metadata": {},
   "outputs": [],
   "source": [
    "# we prepare the function to check artist id in each file\n",
    "def func_to_count_artist_id(filename):\n",
    "    \"\"\"\n",
    "    This function does 3 simple things:\n",
    "    - open the song file\n",
    "    - get artist ID and put it\n",
    "    - close the file\n",
    "    \"\"\"\n",
    "    h5 = open_file(filename)\n",
    "    artist_id = GETTERS.get_artist_id(h5)\n",
    "    files_per_artist[artist_id.decode(\"utf-8\")] += 1\n",
    "    h5.close()"
   ]
  },
  {
   "cell_type": "code",
   "execution_count": 27,
   "metadata": {},
   "outputs": [
    {
     "name": "stdout",
     "output_type": "stream",
     "text": [
      "AROIHOI122988FEB8E has 13 songs.\n"
     ]
    }
   ],
   "source": [
    "# we apply this function to all files\n",
    "apply_to_all_files(msd_subset_data_path,func=func_to_count_artist_id)\n",
    "\n",
    "# the most popular artist (with the most songs) is:\n",
    "most_pop_aid = sorted(files_per_artist,\n",
    "                      key=files_per_artist.__getitem__,\n",
    "                      reverse=True)[0]\n",
    "print(most_pop_aid,'has',files_per_artist[most_pop_aid],'songs.')"
   ]
  },
  {
   "cell_type": "code",
   "execution_count": 28,
   "metadata": {},
   "outputs": [
    {
     "name": "stdout",
     "output_type": "stream",
     "text": [
      "SQL query: SELECT DISTINCT artist_name FROM songs WHERE artist_id='AROIHOI122988FEB8E'\n",
      "name(s) of the most popular artist: ['Mario Rosenstock']\n",
      "found most popular artist in 0:00:00.333914\n",
      "('AROIHOI122988FEB8E', 'Mario Rosenstock', 13)\n"
     ]
    }
   ],
   "source": [
    "# of course, it is more fun to have the name(s) of this artist\n",
    "# let's get it using SQLite\n",
    "conn = sqlite3.connect(os.path.join(msd_subset_addf_path,\n",
    "                                    'subset_track_metadata.db'))\n",
    "q = \"SELECT DISTINCT artist_name FROM songs\"\n",
    "q += \" WHERE artist_id='\"+most_pop_aid+\"'\"\n",
    "res = conn.execute(q)\n",
    "pop_artist_names = list(map(lambda x: x[0], res.fetchall()))\n",
    "conn.close()\n",
    "print( 'SQL query:',q)\n",
    "print ('name(s) of the most popular artist:',pop_artist_names)\n",
    "\n",
    "# let's redo all this work in SQLite in a few seconds\n",
    "t1 = time.time()\n",
    "conn = sqlite3.connect(os.path.join(msd_subset_addf_path,\n",
    "                                    'subset_track_metadata.db'))\n",
    "q = \"SELECT DISTINCT artist_id,artist_name,Count(track_id) FROM songs\"\n",
    "q += \" GROUP BY artist_id\"\n",
    "res = conn.execute(q)\n",
    "pop_artists = res.fetchall()\n",
    "conn.close()\n",
    "t2 = time.time()\n",
    "print ('found most popular artist in',strtimedelta(t1,t2))\n",
    "print (sorted(pop_artists,key=lambda x:x[2],reverse=True)[0])"
   ]
  },
  {
   "cell_type": "code",
   "execution_count": null,
   "metadata": {},
   "outputs": [],
   "source": []
  }
 ],
 "metadata": {
  "anaconda-cloud": {},
  "kernelspec": {
   "display_name": "Python 3",
   "language": "python",
   "name": "python3"
  },
  "language_info": {
   "codemirror_mode": {
    "name": "ipython",
    "version": 3
   },
   "file_extension": ".py",
   "mimetype": "text/x-python",
   "name": "python",
   "nbconvert_exporter": "python",
   "pygments_lexer": "ipython3",
   "version": "3.6.5"
  }
 },
 "nbformat": 4,
 "nbformat_minor": 2
}
